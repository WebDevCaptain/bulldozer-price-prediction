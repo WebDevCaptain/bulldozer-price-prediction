{
 "cells": [
  {
   "cell_type": "markdown",
   "metadata": {},
   "source": [
    "## 1. Downloading data\n"
   ]
  },
  {
   "cell_type": "code",
   "execution_count": 1,
   "metadata": {},
   "outputs": [],
   "source": [
    "from utils.download_dataset import download_and_extract_zip"
   ]
  },
  {
   "cell_type": "code",
   "execution_count": 2,
   "metadata": {},
   "outputs": [
    {
     "name": "stdout",
     "output_type": "stream",
     "text": [
      "[INFO] data/bulldozer directory exists, skipping download.\n"
     ]
    },
    {
     "data": {
      "text/plain": [
       "PosixPath('data/bulldozer')"
      ]
     },
     "execution_count": 2,
     "metadata": {},
     "output_type": "execute_result"
    }
   ],
   "source": [
    "bulldozer_dataset_path = download_and_extract_zip(\n",
    "    source=\"https://github.com/mrdbourke/zero-to-mastery-ml/raw/refs/heads/master/data/bluebook-for-bulldozers.zip\",\n",
    "    destination=\"bulldozer\",\n",
    ")\n",
    "\n",
    "bulldozer_dataset_path"
   ]
  },
  {
   "cell_type": "markdown",
   "metadata": {},
   "source": [
    "## 2. Exploring the dataset\n"
   ]
  },
  {
   "cell_type": "code",
   "execution_count": 3,
   "metadata": {},
   "outputs": [
    {
     "name": "stderr",
     "output_type": "stream",
     "text": [
      "/var/folders/mx/vj1_hyjs3sv8d4l194lwvdh40000gn/T/ipykernel_21849/2270781114.py:5: DtypeWarning: Columns (13,39,40,41) have mixed types. Specify dtype option on import or set low_memory=False.\n",
      "  df = pd.read_csv(bulldozer_dataset_path / \"Train.csv\")\n"
     ]
    },
    {
     "data": {
      "text/html": [
       "<div>\n",
       "<style scoped>\n",
       "    .dataframe tbody tr th:only-of-type {\n",
       "        vertical-align: middle;\n",
       "    }\n",
       "\n",
       "    .dataframe tbody tr th {\n",
       "        vertical-align: top;\n",
       "    }\n",
       "\n",
       "    .dataframe thead th {\n",
       "        text-align: right;\n",
       "    }\n",
       "</style>\n",
       "<table border=\"1\" class=\"dataframe\">\n",
       "  <thead>\n",
       "    <tr style=\"text-align: right;\">\n",
       "      <th></th>\n",
       "      <th>SalesID</th>\n",
       "      <th>SalePrice</th>\n",
       "      <th>MachineID</th>\n",
       "      <th>ModelID</th>\n",
       "      <th>datasource</th>\n",
       "      <th>auctioneerID</th>\n",
       "      <th>YearMade</th>\n",
       "      <th>MachineHoursCurrentMeter</th>\n",
       "      <th>UsageBand</th>\n",
       "      <th>saledate</th>\n",
       "      <th>...</th>\n",
       "      <th>Undercarriage_Pad_Width</th>\n",
       "      <th>Stick_Length</th>\n",
       "      <th>Thumb</th>\n",
       "      <th>Pattern_Changer</th>\n",
       "      <th>Grouser_Type</th>\n",
       "      <th>Backhoe_Mounting</th>\n",
       "      <th>Blade_Type</th>\n",
       "      <th>Travel_Controls</th>\n",
       "      <th>Differential_Type</th>\n",
       "      <th>Steering_Controls</th>\n",
       "    </tr>\n",
       "  </thead>\n",
       "  <tbody>\n",
       "    <tr>\n",
       "      <th>0</th>\n",
       "      <td>1139246</td>\n",
       "      <td>66000</td>\n",
       "      <td>999089</td>\n",
       "      <td>3157</td>\n",
       "      <td>121</td>\n",
       "      <td>3.0</td>\n",
       "      <td>2004</td>\n",
       "      <td>68.0</td>\n",
       "      <td>Low</td>\n",
       "      <td>11/16/2006 0:00</td>\n",
       "      <td>...</td>\n",
       "      <td>NaN</td>\n",
       "      <td>NaN</td>\n",
       "      <td>NaN</td>\n",
       "      <td>NaN</td>\n",
       "      <td>NaN</td>\n",
       "      <td>NaN</td>\n",
       "      <td>NaN</td>\n",
       "      <td>NaN</td>\n",
       "      <td>Standard</td>\n",
       "      <td>Conventional</td>\n",
       "    </tr>\n",
       "    <tr>\n",
       "      <th>1</th>\n",
       "      <td>1139248</td>\n",
       "      <td>57000</td>\n",
       "      <td>117657</td>\n",
       "      <td>77</td>\n",
       "      <td>121</td>\n",
       "      <td>3.0</td>\n",
       "      <td>1996</td>\n",
       "      <td>4640.0</td>\n",
       "      <td>Low</td>\n",
       "      <td>3/26/2004 0:00</td>\n",
       "      <td>...</td>\n",
       "      <td>NaN</td>\n",
       "      <td>NaN</td>\n",
       "      <td>NaN</td>\n",
       "      <td>NaN</td>\n",
       "      <td>NaN</td>\n",
       "      <td>NaN</td>\n",
       "      <td>NaN</td>\n",
       "      <td>NaN</td>\n",
       "      <td>Standard</td>\n",
       "      <td>Conventional</td>\n",
       "    </tr>\n",
       "    <tr>\n",
       "      <th>2</th>\n",
       "      <td>1139249</td>\n",
       "      <td>10000</td>\n",
       "      <td>434808</td>\n",
       "      <td>7009</td>\n",
       "      <td>121</td>\n",
       "      <td>3.0</td>\n",
       "      <td>2001</td>\n",
       "      <td>2838.0</td>\n",
       "      <td>High</td>\n",
       "      <td>2/26/2004 0:00</td>\n",
       "      <td>...</td>\n",
       "      <td>NaN</td>\n",
       "      <td>NaN</td>\n",
       "      <td>NaN</td>\n",
       "      <td>NaN</td>\n",
       "      <td>NaN</td>\n",
       "      <td>NaN</td>\n",
       "      <td>NaN</td>\n",
       "      <td>NaN</td>\n",
       "      <td>NaN</td>\n",
       "      <td>NaN</td>\n",
       "    </tr>\n",
       "    <tr>\n",
       "      <th>3</th>\n",
       "      <td>1139251</td>\n",
       "      <td>38500</td>\n",
       "      <td>1026470</td>\n",
       "      <td>332</td>\n",
       "      <td>121</td>\n",
       "      <td>3.0</td>\n",
       "      <td>2001</td>\n",
       "      <td>3486.0</td>\n",
       "      <td>High</td>\n",
       "      <td>5/19/2011 0:00</td>\n",
       "      <td>...</td>\n",
       "      <td>NaN</td>\n",
       "      <td>NaN</td>\n",
       "      <td>NaN</td>\n",
       "      <td>NaN</td>\n",
       "      <td>NaN</td>\n",
       "      <td>NaN</td>\n",
       "      <td>NaN</td>\n",
       "      <td>NaN</td>\n",
       "      <td>NaN</td>\n",
       "      <td>NaN</td>\n",
       "    </tr>\n",
       "    <tr>\n",
       "      <th>4</th>\n",
       "      <td>1139253</td>\n",
       "      <td>11000</td>\n",
       "      <td>1057373</td>\n",
       "      <td>17311</td>\n",
       "      <td>121</td>\n",
       "      <td>3.0</td>\n",
       "      <td>2007</td>\n",
       "      <td>722.0</td>\n",
       "      <td>Medium</td>\n",
       "      <td>7/23/2009 0:00</td>\n",
       "      <td>...</td>\n",
       "      <td>NaN</td>\n",
       "      <td>NaN</td>\n",
       "      <td>NaN</td>\n",
       "      <td>NaN</td>\n",
       "      <td>NaN</td>\n",
       "      <td>NaN</td>\n",
       "      <td>NaN</td>\n",
       "      <td>NaN</td>\n",
       "      <td>NaN</td>\n",
       "      <td>NaN</td>\n",
       "    </tr>\n",
       "  </tbody>\n",
       "</table>\n",
       "<p>5 rows × 53 columns</p>\n",
       "</div>"
      ],
      "text/plain": [
       "   SalesID  SalePrice  MachineID  ModelID  datasource  auctioneerID  YearMade  \\\n",
       "0  1139246      66000     999089     3157         121           3.0      2004   \n",
       "1  1139248      57000     117657       77         121           3.0      1996   \n",
       "2  1139249      10000     434808     7009         121           3.0      2001   \n",
       "3  1139251      38500    1026470      332         121           3.0      2001   \n",
       "4  1139253      11000    1057373    17311         121           3.0      2007   \n",
       "\n",
       "   MachineHoursCurrentMeter UsageBand         saledate  ...  \\\n",
       "0                      68.0       Low  11/16/2006 0:00  ...   \n",
       "1                    4640.0       Low   3/26/2004 0:00  ...   \n",
       "2                    2838.0      High   2/26/2004 0:00  ...   \n",
       "3                    3486.0      High   5/19/2011 0:00  ...   \n",
       "4                     722.0    Medium   7/23/2009 0:00  ...   \n",
       "\n",
       "  Undercarriage_Pad_Width Stick_Length Thumb Pattern_Changer Grouser_Type  \\\n",
       "0                     NaN          NaN   NaN             NaN          NaN   \n",
       "1                     NaN          NaN   NaN             NaN          NaN   \n",
       "2                     NaN          NaN   NaN             NaN          NaN   \n",
       "3                     NaN          NaN   NaN             NaN          NaN   \n",
       "4                     NaN          NaN   NaN             NaN          NaN   \n",
       "\n",
       "  Backhoe_Mounting Blade_Type Travel_Controls Differential_Type  \\\n",
       "0              NaN        NaN             NaN          Standard   \n",
       "1              NaN        NaN             NaN          Standard   \n",
       "2              NaN        NaN             NaN               NaN   \n",
       "3              NaN        NaN             NaN               NaN   \n",
       "4              NaN        NaN             NaN               NaN   \n",
       "\n",
       "  Steering_Controls  \n",
       "0      Conventional  \n",
       "1      Conventional  \n",
       "2               NaN  \n",
       "3               NaN  \n",
       "4               NaN  \n",
       "\n",
       "[5 rows x 53 columns]"
      ]
     },
     "execution_count": 3,
     "metadata": {},
     "output_type": "execute_result"
    }
   ],
   "source": [
    "import pandas as pd\n",
    "import numpy as np\n",
    "import matplotlib.pyplot as plt\n",
    "\n",
    "df = pd.read_csv(bulldozer_dataset_path / \"Train.csv\")\n",
    "\n",
    "df.head()"
   ]
  },
  {
   "cell_type": "code",
   "execution_count": 4,
   "metadata": {},
   "outputs": [
    {
     "name": "stdout",
     "output_type": "stream",
     "text": [
      "<class 'pandas.core.frame.DataFrame'>\n",
      "RangeIndex: 401125 entries, 0 to 401124\n",
      "Data columns (total 53 columns):\n",
      " #   Column                    Non-Null Count   Dtype  \n",
      "---  ------                    --------------   -----  \n",
      " 0   SalesID                   401125 non-null  int64  \n",
      " 1   SalePrice                 401125 non-null  int64  \n",
      " 2   MachineID                 401125 non-null  int64  \n",
      " 3   ModelID                   401125 non-null  int64  \n",
      " 4   datasource                401125 non-null  int64  \n",
      " 5   auctioneerID              380989 non-null  float64\n",
      " 6   YearMade                  401125 non-null  int64  \n",
      " 7   MachineHoursCurrentMeter  142765 non-null  float64\n",
      " 8   UsageBand                 69639 non-null   object \n",
      " 9   saledate                  401125 non-null  object \n",
      " 10  fiModelDesc               401125 non-null  object \n",
      " 11  fiBaseModel               401125 non-null  object \n",
      " 12  fiSecondaryDesc           263934 non-null  object \n",
      " 13  fiModelSeries             56908 non-null   object \n",
      " 14  fiModelDescriptor         71919 non-null   object \n",
      " 15  ProductSize               190350 non-null  object \n",
      " 16  fiProductClassDesc        401125 non-null  object \n",
      " 17  state                     401125 non-null  object \n",
      " 18  ProductGroup              401125 non-null  object \n",
      " 19  ProductGroupDesc          401125 non-null  object \n",
      " 20  Drive_System              104361 non-null  object \n",
      " 21  Enclosure                 400800 non-null  object \n",
      " 22  Forks                     192077 non-null  object \n",
      " 23  Pad_Type                  79134 non-null   object \n",
      " 24  Ride_Control              148606 non-null  object \n",
      " 25  Stick                     79134 non-null   object \n",
      " 26  Transmission              183230 non-null  object \n",
      " 27  Turbocharged              79134 non-null   object \n",
      " 28  Blade_Extension           25219 non-null   object \n",
      " 29  Blade_Width               25219 non-null   object \n",
      " 30  Enclosure_Type            25219 non-null   object \n",
      " 31  Engine_Horsepower         25219 non-null   object \n",
      " 32  Hydraulics                320570 non-null  object \n",
      " 33  Pushblock                 25219 non-null   object \n",
      " 34  Ripper                    104137 non-null  object \n",
      " 35  Scarifier                 25230 non-null   object \n",
      " 36  Tip_Control               25219 non-null   object \n",
      " 37  Tire_Size                 94718 non-null   object \n",
      " 38  Coupler                   213952 non-null  object \n",
      " 39  Coupler_System            43458 non-null   object \n",
      " 40  Grouser_Tracks            43362 non-null   object \n",
      " 41  Hydraulics_Flow           43362 non-null   object \n",
      " 42  Track_Type                99153 non-null   object \n",
      " 43  Undercarriage_Pad_Width   99872 non-null   object \n",
      " 44  Stick_Length              99218 non-null   object \n",
      " 45  Thumb                     99288 non-null   object \n",
      " 46  Pattern_Changer           99218 non-null   object \n",
      " 47  Grouser_Type              99153 non-null   object \n",
      " 48  Backhoe_Mounting          78672 non-null   object \n",
      " 49  Blade_Type                79833 non-null   object \n",
      " 50  Travel_Controls           79834 non-null   object \n",
      " 51  Differential_Type         69411 non-null   object \n",
      " 52  Steering_Controls         69369 non-null   object \n",
      "dtypes: float64(2), int64(6), object(45)\n",
      "memory usage: 162.2+ MB\n"
     ]
    }
   ],
   "source": [
    "df.info()"
   ]
  },
  {
   "cell_type": "code",
   "execution_count": 5,
   "metadata": {},
   "outputs": [
    {
     "data": {
      "text/plain": [
       "(401125, 53)"
      ]
     },
     "execution_count": 5,
     "metadata": {},
     "output_type": "execute_result"
    }
   ],
   "source": [
    "df.shape"
   ]
  },
  {
   "cell_type": "code",
   "execution_count": 6,
   "metadata": {},
   "outputs": [
    {
     "data": {
      "text/plain": [
       "<Axes: xlabel='Sale Price (USD)', ylabel='Frequency (No. of bulldozers)'>"
      ]
     },
     "execution_count": 6,
     "metadata": {},
     "output_type": "execute_result"
    },
    {
     "data": {
      "image/png": "[encoded data removed]",
      "text/plain": [
       "<Figure size 640x480 with 1 Axes>"
      ]
     },
     "metadata": {},
     "output_type": "display_data"
    }
   ],
   "source": [
    "df[\"SalePrice\"].plot.hist(\n",
    "    xlabel=\"Sale Price (USD)\",\n",
    "    ylabel=\"Frequency (No. of bulldozers)\",\n",
    "    bins=20,\n",
    ")"
   ]
  },
  {
   "cell_type": "markdown",
   "metadata": {},
   "source": [
    "### Parsing dates in pandas\n",
    "\n",
    "> Pandas datetime type makes it easy to extract date components from a datetime object.\n"
   ]
  },
  {
   "cell_type": "code",
   "execution_count": 7,
   "metadata": {},
   "outputs": [
    {
     "data": {
      "text/plain": [
       "0    11/16/2006 0:00\n",
       "1     3/26/2004 0:00\n",
       "2     2/26/2004 0:00\n",
       "3     5/19/2011 0:00\n",
       "4     7/23/2009 0:00\n",
       "Name: saledate, dtype: object"
      ]
     },
     "execution_count": 7,
     "metadata": {},
     "output_type": "execute_result"
    }
   ],
   "source": [
    "df[\"saledate\"][:5]"
   ]
  },
  {
   "cell_type": "code",
   "execution_count": 8,
   "metadata": {},
   "outputs": [
    {
     "name": "stdout",
     "output_type": "stream",
     "text": [
      "<class 'pandas.core.frame.DataFrame'>\n",
      "RangeIndex: 401125 entries, 0 to 401124\n",
      "Data columns (total 53 columns):\n",
      " #   Column                    Non-Null Count   Dtype         \n",
      "---  ------                    --------------   -----         \n",
      " 0   SalesID                   401125 non-null  int64         \n",
      " 1   SalePrice                 401125 non-null  int64         \n",
      " 2   MachineID                 401125 non-null  int64         \n",
      " 3   ModelID                   401125 non-null  int64         \n",
      " 4   datasource                401125 non-null  int64         \n",
      " 5   auctioneerID              380989 non-null  float64       \n",
      " 6   YearMade                  401125 non-null  int64         \n",
      " 7   MachineHoursCurrentMeter  142765 non-null  float64       \n",
      " 8   UsageBand                 69639 non-null   object        \n",
      " 9   saledate                  401125 non-null  datetime64[ns]\n",
      " 10  fiModelDesc               401125 non-null  object        \n",
      " 11  fiBaseModel               401125 non-null  object        \n",
      " 12  fiSecondaryDesc           263934 non-null  object        \n",
      " 13  fiModelSeries             56908 non-null   object        \n",
      " 14  fiModelDescriptor         71919 non-null   object        \n",
      " 15  ProductSize               190350 non-null  object        \n",
      " 16  fiProductClassDesc        401125 non-null  object        \n",
      " 17  state                     401125 non-null  object        \n",
      " 18  ProductGroup              401125 non-null  object        \n",
      " 19  ProductGroupDesc          401125 non-null  object        \n",
      " 20  Drive_System              104361 non-null  object        \n",
      " 21  Enclosure                 400800 non-null  object        \n",
      " 22  Forks                     192077 non-null  object        \n",
      " 23  Pad_Type                  79134 non-null   object        \n",
      " 24  Ride_Control              148606 non-null  object        \n",
      " 25  Stick                     79134 non-null   object        \n",
      " 26  Transmission              183230 non-null  object        \n",
      " 27  Turbocharged              79134 non-null   object        \n",
      " 28  Blade_Extension           25219 non-null   object        \n",
      " 29  Blade_Width               25219 non-null   object        \n",
      " 30  Enclosure_Type            25219 non-null   object        \n",
      " 31  Engine_Horsepower         25219 non-null   object        \n",
      " 32  Hydraulics                320570 non-null  object        \n",
      " 33  Pushblock                 25219 non-null   object        \n",
      " 34  Ripper                    104137 non-null  object        \n",
      " 35  Scarifier                 25230 non-null   object        \n",
      " 36  Tip_Control               25219 non-null   object        \n",
      " 37  Tire_Size                 94718 non-null   object        \n",
      " 38  Coupler                   213952 non-null  object        \n",
      " 39  Coupler_System            43458 non-null   object        \n",
      " 40  Grouser_Tracks            43362 non-null   object        \n",
      " 41  Hydraulics_Flow           43362 non-null   object        \n",
      " 42  Track_Type                99153 non-null   object        \n",
      " 43  Undercarriage_Pad_Width   99872 non-null   object        \n",
      " 44  Stick_Length              99218 non-null   object        \n",
      " 45  Thumb                     99288 non-null   object        \n",
      " 46  Pattern_Changer           99218 non-null   object        \n",
      " 47  Grouser_Type              99153 non-null   object        \n",
      " 48  Backhoe_Mounting          78672 non-null   object        \n",
      " 49  Blade_Type                79833 non-null   object        \n",
      " 50  Travel_Controls           79834 non-null   object        \n",
      " 51  Differential_Type         69411 non-null   object        \n",
      " 52  Steering_Controls         69369 non-null   object        \n",
      "dtypes: datetime64[ns](1), float64(2), int64(6), object(44)\n",
      "memory usage: 162.2+ MB\n"
     ]
    }
   ],
   "source": [
    "df = pd.read_csv(\n",
    "    bulldozer_dataset_path / \"Train.csv\", parse_dates=[\"saledate\"], low_memory=False\n",
    ")\n",
    "\n",
    "df.info()"
   ]
  },
  {
   "cell_type": "code",
   "execution_count": 9,
   "metadata": {},
   "outputs": [
    {
     "data": {
      "text/plain": [
       "0   2006-11-16\n",
       "1   2004-03-26\n",
       "2   2004-02-26\n",
       "3   2011-05-19\n",
       "4   2009-07-23\n",
       "Name: saledate, dtype: datetime64[ns]"
      ]
     },
     "execution_count": 9,
     "metadata": {},
     "output_type": "execute_result"
    }
   ],
   "source": [
    "# Confirm that saledate is now a datetime type\n",
    "\n",
    "df[\"saledate\"][:5]"
   ]
  },
  {
   "cell_type": "code",
   "execution_count": 10,
   "metadata": {},
   "outputs": [
    {
     "data": {
      "text/plain": [
       "<matplotlib.collections.PathCollection at 0x159018a40>"
      ]
     },
     "execution_count": 10,
     "metadata": {},
     "output_type": "execute_result"
    },
    {
     "data": {
      "image/png": "[encoded data removed]",
      "text/plain": [
       "<Figure size 640x480 with 1 Axes>"
      ]
     },
     "metadata": {},
     "output_type": "display_data"
    }
   ],
   "source": [
    "### Sale date vs sale price visualization\n",
    "# df.plot.scatter(x=\"SalePrice\", y=\"saledate\", xlabel=\"Sale Price (USD)\", ylabel=\"Sale Date\") # Entire dataset 😅\n",
    "\n",
    "fig, ax = plt.subplots()\n",
    "\n",
    "ax.set_xlabel(\"Sale Date\")\n",
    "ax.set_ylabel(\"Sale Price (USD)\")\n",
    "\n",
    "ax.scatter(x=df[\"saledate\"][:1000], y=df[\"SalePrice\"][:1000])  # First 1000 data points"
   ]
  },
  {
   "cell_type": "code",
   "execution_count": 11,
   "metadata": {},
   "outputs": [
    {
     "data": {
      "text/plain": [
       "205615   1989-01-17\n",
       "92803    1989-01-31\n",
       "98346    1989-01-31\n",
       "169297   1989-01-31\n",
       "274835   1989-01-31\n",
       "Name: saledate, dtype: datetime64[ns]"
      ]
     },
     "execution_count": 11,
     "metadata": {},
     "output_type": "execute_result"
    }
   ],
   "source": [
    "## Sort data by sale date\n",
    "\n",
    "df.sort_values(by=[\"saledate\"], inplace=True, ascending=True)\n",
    "\n",
    "df[\"saledate\"].head()"
   ]
  },
  {
   "cell_type": "code",
   "execution_count": 12,
   "metadata": {},
   "outputs": [
    {
     "data": {
      "text/plain": [
       "393123   2011-12-30\n",
       "397987   2011-12-30\n",
       "392664   2011-12-30\n",
       "400458   2011-12-30\n",
       "400217   2011-12-30\n",
       "Name: saledate, dtype: datetime64[ns]"
      ]
     },
     "execution_count": 12,
     "metadata": {},
     "output_type": "execute_result"
    }
   ],
   "source": [
    "# View last 5 rows of saledate column\n",
    "\n",
    "df[\"saledate\"].tail()"
   ]
  },
  {
   "cell_type": "code",
   "execution_count": 13,
   "metadata": {},
   "outputs": [],
   "source": [
    "# Add datetime parameters for saledate\n",
    "df[\"saleYear\"] = df.saledate.dt.year\n",
    "df[\"saleMonth\"] = df.saledate.dt.month\n",
    "df[\"saleDay\"] = df.saledate.dt.day\n",
    "df[\"saleDayofweek\"] = df.saledate.dt.dayofweek\n",
    "df[\"saleDayofyear\"] = df.saledate.dt.dayofyear\n",
    "\n",
    "# Drop original saledate column\n",
    "df.drop(\"saledate\", axis=1, inplace=True)"
   ]
  },
  {
   "cell_type": "code",
   "execution_count": 14,
   "metadata": {},
   "outputs": [
    {
     "data": {
      "text/html": [
       "<div>\n",
       "<style scoped>\n",
       "    .dataframe tbody tr th:only-of-type {\n",
       "        vertical-align: middle;\n",
       "    }\n",
       "\n",
       "    .dataframe tbody tr th {\n",
       "        vertical-align: top;\n",
       "    }\n",
       "\n",
       "    .dataframe thead th {\n",
       "        text-align: right;\n",
       "    }\n",
       "</style>\n",
       "<table border=\"1\" class=\"dataframe\">\n",
       "  <thead>\n",
       "    <tr style=\"text-align: right;\">\n",
       "      <th></th>\n",
       "      <th>SalePrice</th>\n",
       "      <th>saleYear</th>\n",
       "      <th>saleMonth</th>\n",
       "      <th>saleDay</th>\n",
       "      <th>saleDayofweek</th>\n",
       "      <th>saleDayofyear</th>\n",
       "    </tr>\n",
       "  </thead>\n",
       "  <tbody>\n",
       "    <tr>\n",
       "      <th>205615</th>\n",
       "      <td>9500</td>\n",
       "      <td>1989</td>\n",
       "      <td>1</td>\n",
       "      <td>17</td>\n",
       "      <td>1</td>\n",
       "      <td>17</td>\n",
       "    </tr>\n",
       "    <tr>\n",
       "      <th>92803</th>\n",
       "      <td>24000</td>\n",
       "      <td>1989</td>\n",
       "      <td>1</td>\n",
       "      <td>31</td>\n",
       "      <td>1</td>\n",
       "      <td>31</td>\n",
       "    </tr>\n",
       "    <tr>\n",
       "      <th>98346</th>\n",
       "      <td>35000</td>\n",
       "      <td>1989</td>\n",
       "      <td>1</td>\n",
       "      <td>31</td>\n",
       "      <td>1</td>\n",
       "      <td>31</td>\n",
       "    </tr>\n",
       "    <tr>\n",
       "      <th>169297</th>\n",
       "      <td>19000</td>\n",
       "      <td>1989</td>\n",
       "      <td>1</td>\n",
       "      <td>31</td>\n",
       "      <td>1</td>\n",
       "      <td>31</td>\n",
       "    </tr>\n",
       "    <tr>\n",
       "      <th>274835</th>\n",
       "      <td>14000</td>\n",
       "      <td>1989</td>\n",
       "      <td>1</td>\n",
       "      <td>31</td>\n",
       "      <td>1</td>\n",
       "      <td>31</td>\n",
       "    </tr>\n",
       "  </tbody>\n",
       "</table>\n",
       "</div>"
      ],
      "text/plain": [
       "        SalePrice  saleYear  saleMonth  saleDay  saleDayofweek  saleDayofyear\n",
       "205615       9500      1989          1       17              1             17\n",
       "92803       24000      1989          1       31              1             31\n",
       "98346       35000      1989          1       31              1             31\n",
       "169297      19000      1989          1       31              1             31\n",
       "274835      14000      1989          1       31              1             31"
      ]
     },
     "execution_count": 14,
     "metadata": {},
     "output_type": "execute_result"
    }
   ],
   "source": [
    "# View newly created columns\n",
    "df[\n",
    "    [\"SalePrice\", \"saleYear\", \"saleMonth\", \"saleDay\", \"saleDayofweek\", \"saleDayofyear\"]\n",
    "].head()"
   ]
  },
  {
   "cell_type": "code",
   "execution_count": 15,
   "metadata": {},
   "outputs": [
    {
     "data": {
      "text/plain": [
       "[]"
      ]
     },
     "execution_count": 15,
     "metadata": {},
     "output_type": "execute_result"
    },
    {
     "data": {
      "image/png": "[encoded data removed]",
      "text/plain": [
       "<Figure size 640x480 with 1 Axes>"
      ]
     },
     "metadata": {},
     "output_type": "display_data"
    }
   ],
   "source": [
    "# View 10,000 samples SalePrice against saleMonth\n",
    "fig, ax = plt.subplots()\n",
    "\n",
    "ax.scatter(\n",
    "    x=df[\"saleMonth\"][:10000],  # visualize first 10k values\n",
    "    y=df[\"SalePrice\"][:10000],\n",
    ")\n",
    "ax.set_xlabel(\"Sale Month\")\n",
    "ax.set_ylabel(\"Sale Price ($)\")\n",
    "plt.plot()"
   ]
  },
  {
   "cell_type": "code",
   "execution_count": 16,
   "metadata": {},
   "outputs": [
    {
     "data": {
      "text/plain": [
       "[]"
      ]
     },
     "execution_count": 16,
     "metadata": {},
     "output_type": "execute_result"
    },
    {
     "data": {
      "image/png": "[encoded data removed]",
      "text/plain": [
       "<Figure size 640x480 with 1 Axes>"
      ]
     },
     "metadata": {},
     "output_type": "display_data"
    }
   ],
   "source": [
    "# Group DataFrame by saleMonth and then find the median SalePrice\n",
    "\n",
    "df.groupby([\"saleMonth\"])[\"SalePrice\"].median().plot(kind=\"line\")\n",
    "plt.xlabel(\"Month\")\n",
    "plt.ylabel(\"Median Sale Price ($)\")\n",
    "plt.plot()"
   ]
  },
  {
   "cell_type": "code",
   "execution_count": 17,
   "metadata": {},
   "outputs": [
    {
     "data": {
      "text/plain": [
       "state\n",
       "Florida           63944\n",
       "Texas             51682\n",
       "California        29019\n",
       "Washington        15955\n",
       "Georgia           14309\n",
       "Maryland          12965\n",
       "Mississippi       12961\n",
       "Ohio              12190\n",
       "Colorado          11254\n",
       "Illinois          11209\n",
       "New Jersey        10882\n",
       "North Carolina    10404\n",
       "Tennessee         10027\n",
       "Alabama            9997\n",
       "Pennsylvania       9941\n",
       "South Carolina     9794\n",
       "Arizona            9173\n",
       "New York           8604\n",
       "Connecticut        8128\n",
       "Minnesota          7734\n",
       "Missouri           6961\n",
       "Nevada             6693\n",
       "Louisiana          6450\n",
       "Kentucky           5278\n",
       "Maine              5095\n",
       "Indiana            4086\n",
       "Arkansas           3869\n",
       "New Mexico         3529\n",
       "Utah               2895\n",
       "Unspecified        2801\n",
       "New Hampshire      2724\n",
       "Wisconsin          2668\n",
       "Virginia           2288\n",
       "Idaho              2018\n",
       "Oregon             1775\n",
       "Michigan           1763\n",
       "Wyoming            1662\n",
       "Montana            1327\n",
       "Oklahoma           1311\n",
       "Iowa               1215\n",
       "West Virginia       746\n",
       "Nebraska            722\n",
       "Kansas              659\n",
       "Delaware            509\n",
       "Alaska              430\n",
       "North Dakota        410\n",
       "Massachusetts       328\n",
       "Vermont             300\n",
       "South Dakota        203\n",
       "Hawaii              118\n",
       "Rhode Island         82\n",
       "Puerto Rico          36\n",
       "Washington DC         2\n",
       "Name: count, dtype: int64"
      ]
     },
     "execution_count": 17,
     "metadata": {},
     "output_type": "execute_result"
    }
   ],
   "source": [
    "# Count number of observations per state\n",
    "df.state.value_counts()"
   ]
  },
  {
   "cell_type": "code",
   "execution_count": 18,
   "metadata": {},
   "outputs": [
    {
     "data": {
      "text/plain": [
       "24000.0"
      ]
     },
     "execution_count": 18,
     "metadata": {},
     "output_type": "execute_result"
    }
   ],
   "source": [
    "# Median SalePrice (overall)\n",
    "df[\"SalePrice\"].median()"
   ]
  },
  {
   "cell_type": "code",
   "execution_count": 19,
   "metadata": {},
   "outputs": [
    {
     "data": {
      "text/plain": [
       "state\n",
       "Alabama           28000.0\n",
       "Alaska            26000.0\n",
       "Arizona           23000.0\n",
       "Arkansas          22500.0\n",
       "California        22500.0\n",
       "Colorado          25000.0\n",
       "Connecticut       23500.0\n",
       "Delaware          23000.0\n",
       "Florida           27000.0\n",
       "Georgia           24000.0\n",
       "Hawaii            26000.0\n",
       "Idaho             21000.0\n",
       "Illinois          22500.0\n",
       "Indiana           19000.0\n",
       "Iowa              24000.0\n",
       "Kansas            20000.0\n",
       "Kentucky          22000.0\n",
       "Louisiana         23500.0\n",
       "Maine             19500.0\n",
       "Maryland          22000.0\n",
       "Massachusetts     23000.0\n",
       "Michigan          22000.0\n",
       "Minnesota         19500.0\n",
       "Mississippi       25000.0\n",
       "Missouri          22000.0\n",
       "Montana           24000.0\n",
       "Nebraska          23250.0\n",
       "Nevada            27000.0\n",
       "New Hampshire     22750.0\n",
       "New Jersey        24500.0\n",
       "New Mexico        26000.0\n",
       "New York          20000.0\n",
       "North Carolina    25000.0\n",
       "North Dakota      27250.0\n",
       "Ohio              22000.0\n",
       "Oklahoma          24000.0\n",
       "Oregon            23000.0\n",
       "Pennsylvania      19000.0\n",
       "Puerto Rico       20250.0\n",
       "Rhode Island      34000.0\n",
       "South Carolina    22000.0\n",
       "South Dakota      36000.0\n",
       "Tennessee         24000.0\n",
       "Texas             25000.0\n",
       "Unspecified       28000.0\n",
       "Utah              27000.0\n",
       "Vermont           22250.0\n",
       "Virginia          21500.0\n",
       "Washington        21500.0\n",
       "Washington DC     22750.0\n",
       "West Virginia     32250.0\n",
       "Wisconsin         21000.0\n",
       "Wyoming           24512.5\n",
       "Name: SalePrice, dtype: float64"
      ]
     },
     "execution_count": 19,
     "metadata": {},
     "output_type": "execute_result"
    }
   ],
   "source": [
    "# Median SalePrice (per state)\n",
    "df.groupby([\"state\"])[\"SalePrice\"].median()"
   ]
  },
  {
   "cell_type": "code",
   "execution_count": 20,
   "metadata": {},
   "outputs": [
    {
     "data": {
      "text/plain": [
       "[]"
      ]
     },
     "execution_count": 20,
     "metadata": {},
     "output_type": "execute_result"
    },
    {
     "data": {
      "image/png": "[encoded data removed]",
      "text/plain": [
       "<Figure size 1600x1000 with 1 Axes>"
      ]
     },
     "metadata": {},
     "output_type": "display_data"
    }
   ],
   "source": [
    "# Create a plot comparing median sale price per state to median sale price overall\n",
    "\n",
    "median_prices_by_state = df.groupby([\"state\"])[\"SalePrice\"].median()\n",
    "median_sale_price = df[\"SalePrice\"].median()\n",
    "\n",
    "plt.figure(figsize=(16, 10))\n",
    "\n",
    "plt.bar(\n",
    "    x=median_prices_by_state.index,  # Because we're working with a Series, we can use the index (state names) as the x values\n",
    "    height=median_prices_by_state.values,\n",
    ")\n",
    "\n",
    "plt.xlabel(\"State\")\n",
    "plt.ylabel(\"Median Sale Price ($)\")\n",
    "\n",
    "plt.xticks(rotation=90, fontsize=7)\n",
    "plt.axhline(\n",
    "    y=median_sale_price,\n",
    "    color=\"red\",\n",
    "    linestyle=\"--\",\n",
    "    label=f\"Median Sale Price: ${median_sale_price:.0f}\",\n",
    ")\n",
    "\n",
    "plt.legend()\n",
    "plt.plot()"
   ]
  },
  {
   "cell_type": "markdown",
   "metadata": {},
   "source": [
    "## 3. Data cleaning and Preprocessing - Preparing for model training\n"
   ]
  },
  {
   "cell_type": "code",
   "execution_count": 21,
   "metadata": {},
   "outputs": [
    {
     "name": "stdout",
     "output_type": "stream",
     "text": [
      "<class 'pandas.core.frame.DataFrame'>\n",
      "Index: 401125 entries, 205615 to 400217\n",
      "Data columns (total 57 columns):\n",
      " #   Column                    Non-Null Count   Dtype  \n",
      "---  ------                    --------------   -----  \n",
      " 0   SalesID                   401125 non-null  int64  \n",
      " 1   SalePrice                 401125 non-null  int64  \n",
      " 2   MachineID                 401125 non-null  int64  \n",
      " 3   ModelID                   401125 non-null  int64  \n",
      " 4   datasource                401125 non-null  int64  \n",
      " 5   auctioneerID              380989 non-null  float64\n",
      " 6   YearMade                  401125 non-null  int64  \n",
      " 7   MachineHoursCurrentMeter  142765 non-null  float64\n",
      " 8   UsageBand                 69639 non-null   object \n",
      " 9   fiModelDesc               401125 non-null  object \n",
      " 10  fiBaseModel               401125 non-null  object \n",
      " 11  fiSecondaryDesc           263934 non-null  object \n",
      " 12  fiModelSeries             56908 non-null   object \n",
      " 13  fiModelDescriptor         71919 non-null   object \n",
      " 14  ProductSize               190350 non-null  object \n",
      " 15  fiProductClassDesc        401125 non-null  object \n",
      " 16  state                     401125 non-null  object \n",
      " 17  ProductGroup              401125 non-null  object \n",
      " 18  ProductGroupDesc          401125 non-null  object \n",
      " 19  Drive_System              104361 non-null  object \n",
      " 20  Enclosure                 400800 non-null  object \n",
      " 21  Forks                     192077 non-null  object \n",
      " 22  Pad_Type                  79134 non-null   object \n",
      " 23  Ride_Control              148606 non-null  object \n",
      " 24  Stick                     79134 non-null   object \n",
      " 25  Transmission              183230 non-null  object \n",
      " 26  Turbocharged              79134 non-null   object \n",
      " 27  Blade_Extension           25219 non-null   object \n",
      " 28  Blade_Width               25219 non-null   object \n",
      " 29  Enclosure_Type            25219 non-null   object \n",
      " 30  Engine_Horsepower         25219 non-null   object \n",
      " 31  Hydraulics                320570 non-null  object \n",
      " 32  Pushblock                 25219 non-null   object \n",
      " 33  Ripper                    104137 non-null  object \n",
      " 34  Scarifier                 25230 non-null   object \n",
      " 35  Tip_Control               25219 non-null   object \n",
      " 36  Tire_Size                 94718 non-null   object \n",
      " 37  Coupler                   213952 non-null  object \n",
      " 38  Coupler_System            43458 non-null   object \n",
      " 39  Grouser_Tracks            43362 non-null   object \n",
      " 40  Hydraulics_Flow           43362 non-null   object \n",
      " 41  Track_Type                99153 non-null   object \n",
      " 42  Undercarriage_Pad_Width   99872 non-null   object \n",
      " 43  Stick_Length              99218 non-null   object \n",
      " 44  Thumb                     99288 non-null   object \n",
      " 45  Pattern_Changer           99218 non-null   object \n",
      " 46  Grouser_Type              99153 non-null   object \n",
      " 47  Backhoe_Mounting          78672 non-null   object \n",
      " 48  Blade_Type                79833 non-null   object \n",
      " 49  Travel_Controls           79834 non-null   object \n",
      " 50  Differential_Type         69411 non-null   object \n",
      " 51  Steering_Controls         69369 non-null   object \n",
      " 52  saleYear                  401125 non-null  int32  \n",
      " 53  saleMonth                 401125 non-null  int32  \n",
      " 54  saleDay                   401125 non-null  int32  \n",
      " 55  saleDayofweek             401125 non-null  int32  \n",
      " 56  saleDayofyear             401125 non-null  int32  \n",
      "dtypes: float64(2), int32(5), int64(6), object(44)\n",
      "memory usage: 169.8+ MB\n"
     ]
    }
   ],
   "source": [
    "# Check for missing values and different datatypes\n",
    "df.info()"
   ]
  },
  {
   "cell_type": "code",
   "execution_count": 22,
   "metadata": {},
   "outputs": [
    {
     "data": {
      "text/plain": [
       "SalesID                          0\n",
       "SalePrice                        0\n",
       "MachineID                        0\n",
       "ModelID                          0\n",
       "datasource                       0\n",
       "auctioneerID                 20136\n",
       "YearMade                         0\n",
       "MachineHoursCurrentMeter    258360\n",
       "UsageBand                   331486\n",
       "fiModelDesc                      0\n",
       "fiBaseModel                      0\n",
       "fiSecondaryDesc             137191\n",
       "fiModelSeries               344217\n",
       "fiModelDescriptor           329206\n",
       "ProductSize                 210775\n",
       "fiProductClassDesc               0\n",
       "state                            0\n",
       "ProductGroup                     0\n",
       "ProductGroupDesc                 0\n",
       "Drive_System                296764\n",
       "Enclosure                      325\n",
       "Forks                       209048\n",
       "Pad_Type                    321991\n",
       "Ride_Control                252519\n",
       "Stick                       321991\n",
       "Transmission                217895\n",
       "Turbocharged                321991\n",
       "Blade_Extension             375906\n",
       "Blade_Width                 375906\n",
       "Enclosure_Type              375906\n",
       "Engine_Horsepower           375906\n",
       "Hydraulics                   80555\n",
       "Pushblock                   375906\n",
       "Ripper                      296988\n",
       "Scarifier                   375895\n",
       "Tip_Control                 375906\n",
       "Tire_Size                   306407\n",
       "Coupler                     187173\n",
       "Coupler_System              357667\n",
       "Grouser_Tracks              357763\n",
       "Hydraulics_Flow             357763\n",
       "Track_Type                  301972\n",
       "Undercarriage_Pad_Width     301253\n",
       "Stick_Length                301907\n",
       "Thumb                       301837\n",
       "Pattern_Changer             301907\n",
       "Grouser_Type                301972\n",
       "Backhoe_Mounting            322453\n",
       "Blade_Type                  321292\n",
       "Travel_Controls             321291\n",
       "Differential_Type           331714\n",
       "Steering_Controls           331756\n",
       "saleYear                         0\n",
       "saleMonth                        0\n",
       "saleDay                          0\n",
       "saleDayofweek                    0\n",
       "saleDayofyear                    0\n",
       "dtype: int64"
      ]
     },
     "execution_count": 22,
     "metadata": {},
     "output_type": "execute_result"
    }
   ],
   "source": [
    "# Find missing values (per column)\n",
    "df.isna().sum()"
   ]
  },
  {
   "cell_type": "code",
   "execution_count": 23,
   "metadata": {},
   "outputs": [
    {
     "data": {
      "text/plain": [
       "(dtype('O'), 'object')"
      ]
     },
     "execution_count": 23,
     "metadata": {},
     "output_type": "execute_result"
    }
   ],
   "source": [
    "# Get the data type of a given column, say UsageBand\n",
    "df[\"UsageBand\"].dtype, df[\"UsageBand\"].dtype.name"
   ]
  },
  {
   "cell_type": "markdown",
   "metadata": {},
   "source": [
    "### Using pd.api.types to get the data type of a given column\n"
   ]
  },
  {
   "cell_type": "code",
   "execution_count": 24,
   "metadata": {},
   "outputs": [
    {
     "data": {
      "text/plain": [
       "True"
      ]
     },
     "execution_count": 24,
     "metadata": {},
     "output_type": "execute_result"
    }
   ],
   "source": [
    "# Check whether a column is an object\n",
    "pd.api.types.is_object_dtype(df[\"UsageBand\"])"
   ]
  },
  {
   "cell_type": "code",
   "execution_count": 25,
   "metadata": {},
   "outputs": [
    {
     "data": {
      "text/plain": [
       "(False, True)"
      ]
     },
     "execution_count": 25,
     "metadata": {},
     "output_type": "execute_result"
    }
   ],
   "source": [
    "# Check whether a column is string\n",
    "pd.api.types.is_string_dtype(df[\"UsageBand\"]), pd.api.types.is_string_dtype(df[\"state\"])"
   ]
  },
  {
   "cell_type": "code",
   "execution_count": 26,
   "metadata": {},
   "outputs": [
    {
     "data": {
      "text/plain": [
       "51016           Arkansas\n",
       "121370    South Carolina\n",
       "Name: state, dtype: object"
      ]
     },
     "execution_count": 26,
     "metadata": {},
     "output_type": "execute_result"
    }
   ],
   "source": [
    "# Peek into a sample from a column\n",
    "df[\"state\"].sample(2)"
   ]
  },
  {
   "cell_type": "code",
   "execution_count": 27,
   "metadata": {},
   "outputs": [
    {
     "name": "stdout",
     "output_type": "stream",
     "text": [
      "Column name: fiModelDesc | Column dtype: object | Example value: ['670CHII'] | Example value dtype: string\n",
      "Column name: fiBaseModel | Column dtype: object | Example value: ['140'] | Example value dtype: string\n",
      "Column name: fiProductClassDesc | Column dtype: object | Example value: ['Motorgrader - 130.0 to 145.0 Horsepower'] | Example value dtype: string\n",
      "Column name: state | Column dtype: object | Example value: ['Texas'] | Example value dtype: string\n",
      "Column name: ProductGroup | Column dtype: object | Example value: ['TTT'] | Example value dtype: string\n",
      "Column name: ProductGroupDesc | Column dtype: object | Example value: ['Track Type Tractors'] | Example value dtype: string\n"
     ]
    }
   ],
   "source": [
    "# Print column names and a sample data point of columns which contain strings\n",
    "\n",
    "for label, content in df.items():\n",
    "    if pd.api.types.is_string_dtype(content):\n",
    "        # Check datatype of target column\n",
    "        column_datatype = df[label].dtype.name\n",
    "\n",
    "        # Get random sample from column values\n",
    "        sample_val = content.sample(1).values\n",
    "\n",
    "        # Infer random sample datatype\n",
    "        sample_val_datatype = pd.api.types.infer_dtype(sample_val)\n",
    "        print(\n",
    "            f\"Column name: {label} | Column dtype: {column_datatype} | Example value: {sample_val} | Example value dtype: {sample_val_datatype}\"\n",
    "        )"
   ]
  },
  {
   "cell_type": "markdown",
   "metadata": {},
   "source": [
    "#### Object columns\n"
   ]
  },
  {
   "cell_type": "code",
   "execution_count": 28,
   "metadata": {},
   "outputs": [
    {
     "name": "stdout",
     "output_type": "stream",
     "text": [
      "Column name: UsageBand | Column dtype: object | Example value: [nan] | Example value dtype: empty\n",
      "Column name: fiModelDesc | Column dtype: object | Example value: ['140HNA'] | Example value dtype: string\n",
      "Column name: fiBaseModel | Column dtype: object | Example value: ['D5'] | Example value dtype: string\n",
      "Column name: fiSecondaryDesc | Column dtype: object | Example value: ['C'] | Example value dtype: string\n",
      "Column name: fiModelSeries | Column dtype: object | Example value: [nan] | Example value dtype: empty\n",
      "Column name: fiModelDescriptor | Column dtype: object | Example value: [nan] | Example value dtype: empty\n",
      "Column name: ProductSize | Column dtype: object | Example value: [nan] | Example value dtype: empty\n",
      "Column name: fiProductClassDesc | Column dtype: object | Example value: ['Hydraulic Excavator, Track - 3.0 to 4.0 Metric Tons'] | Example value dtype: string\n",
      "Column name: state | Column dtype: object | Example value: ['Georgia'] | Example value dtype: string\n",
      "Column name: ProductGroup | Column dtype: object | Example value: ['TEX'] | Example value dtype: string\n",
      "Column name: ProductGroupDesc | Column dtype: object | Example value: ['Wheel Loader'] | Example value dtype: string\n",
      "Column name: Drive_System | Column dtype: object | Example value: ['Four Wheel Drive'] | Example value dtype: string\n",
      "Column name: Enclosure | Column dtype: object | Example value: ['OROPS'] | Example value dtype: string\n",
      "Column name: Forks | Column dtype: object | Example value: [nan] | Example value dtype: empty\n",
      "Column name: Pad_Type | Column dtype: object | Example value: ['None or Unspecified'] | Example value dtype: string\n",
      "Column name: Ride_Control | Column dtype: object | Example value: [nan] | Example value dtype: empty\n",
      "Column name: Stick | Column dtype: object | Example value: [nan] | Example value dtype: empty\n",
      "Column name: Transmission | Column dtype: object | Example value: [nan] | Example value dtype: empty\n",
      "Column name: Turbocharged | Column dtype: object | Example value: ['None or Unspecified'] | Example value dtype: string\n",
      "Column name: Blade_Extension | Column dtype: object | Example value: [nan] | Example value dtype: empty\n",
      "Column name: Blade_Width | Column dtype: object | Example value: [nan] | Example value dtype: empty\n",
      "Column name: Enclosure_Type | Column dtype: object | Example value: [nan] | Example value dtype: empty\n",
      "Column name: Engine_Horsepower | Column dtype: object | Example value: [nan] | Example value dtype: empty\n",
      "Column name: Hydraulics | Column dtype: object | Example value: ['2 Valve'] | Example value dtype: string\n",
      "Column name: Pushblock | Column dtype: object | Example value: [nan] | Example value dtype: empty\n",
      "Column name: Ripper | Column dtype: object | Example value: [nan] | Example value dtype: empty\n",
      "Column name: Scarifier | Column dtype: object | Example value: [nan] | Example value dtype: empty\n",
      "Column name: Tip_Control | Column dtype: object | Example value: ['None or Unspecified'] | Example value dtype: string\n",
      "Column name: Tire_Size | Column dtype: object | Example value: ['None or Unspecified'] | Example value dtype: string\n",
      "Column name: Coupler | Column dtype: object | Example value: ['None or Unspecified'] | Example value dtype: string\n",
      "Column name: Coupler_System | Column dtype: object | Example value: [nan] | Example value dtype: empty\n",
      "Column name: Grouser_Tracks | Column dtype: object | Example value: [nan] | Example value dtype: empty\n",
      "Column name: Hydraulics_Flow | Column dtype: object | Example value: [nan] | Example value dtype: empty\n",
      "Column name: Track_Type | Column dtype: object | Example value: ['Steel'] | Example value dtype: string\n",
      "Column name: Undercarriage_Pad_Width | Column dtype: object | Example value: [nan] | Example value dtype: empty\n",
      "Column name: Stick_Length | Column dtype: object | Example value: [nan] | Example value dtype: empty\n",
      "Column name: Thumb | Column dtype: object | Example value: [nan] | Example value dtype: empty\n",
      "Column name: Pattern_Changer | Column dtype: object | Example value: [nan] | Example value dtype: empty\n",
      "Column name: Grouser_Type | Column dtype: object | Example value: [nan] | Example value dtype: empty\n",
      "Column name: Backhoe_Mounting | Column dtype: object | Example value: [nan] | Example value dtype: empty\n",
      "Column name: Blade_Type | Column dtype: object | Example value: [nan] | Example value dtype: empty\n",
      "Column name: Travel_Controls | Column dtype: object | Example value: [nan] | Example value dtype: empty\n",
      "Column name: Differential_Type | Column dtype: object | Example value: [nan] | Example value dtype: empty\n",
      "Column name: Steering_Controls | Column dtype: object | Example value: [nan] | Example value dtype: empty\n",
      "\n",
      "[INFO] Total number of object type columns: 44\n"
     ]
    }
   ],
   "source": [
    "number_of_object_type_columns = 0\n",
    "\n",
    "for label, content in df.items():\n",
    "    # Check to see if column is of object type (this will include the string columns)\n",
    "    if pd.api.types.is_object_dtype(content):\n",
    "        column_datatype = df[label].dtype.name\n",
    "\n",
    "        example_value = content.sample(1).values\n",
    "\n",
    "        # Infer random sample datatype\n",
    "        example_value_dtype = pd.api.types.infer_dtype(example_value)\n",
    "        print(\n",
    "            f\"Column name: {label} | Column dtype: {column_datatype} | Example value: {example_value} | Example value dtype: {example_value_dtype}\"\n",
    "        )\n",
    "\n",
    "        number_of_object_type_columns += 1\n",
    "\n",
    "print(f\"\\n[INFO] Total number of object type columns: {number_of_object_type_columns}\")"
   ]
  },
  {
   "cell_type": "markdown",
   "metadata": {},
   "source": [
    "#### Turning object values to categories using `Pandas`\n"
   ]
  },
  {
   "cell_type": "code",
   "execution_count": 29,
   "metadata": {},
   "outputs": [],
   "source": [
    "for label, content in df.items():\n",
    "    if pd.api.types.is_object_dtype(content):\n",
    "        df[label] = df[label].astype(\"category\")"
   ]
  },
  {
   "cell_type": "code",
   "execution_count": 30,
   "metadata": {},
   "outputs": [
    {
     "name": "stdout",
     "output_type": "stream",
     "text": [
      "<class 'pandas.core.frame.DataFrame'>\n",
      "Index: 401125 entries, 205615 to 400217\n",
      "Data columns (total 57 columns):\n",
      " #   Column                    Non-Null Count   Dtype   \n",
      "---  ------                    --------------   -----   \n",
      " 0   SalesID                   401125 non-null  int64   \n",
      " 1   SalePrice                 401125 non-null  int64   \n",
      " 2   MachineID                 401125 non-null  int64   \n",
      " 3   ModelID                   401125 non-null  int64   \n",
      " 4   datasource                401125 non-null  int64   \n",
      " 5   auctioneerID              380989 non-null  float64 \n",
      " 6   YearMade                  401125 non-null  int64   \n",
      " 7   MachineHoursCurrentMeter  142765 non-null  float64 \n",
      " 8   UsageBand                 69639 non-null   category\n",
      " 9   fiModelDesc               401125 non-null  category\n",
      " 10  fiBaseModel               401125 non-null  category\n",
      " 11  fiSecondaryDesc           263934 non-null  category\n",
      " 12  fiModelSeries             56908 non-null   category\n",
      " 13  fiModelDescriptor         71919 non-null   category\n",
      " 14  ProductSize               190350 non-null  category\n",
      " 15  fiProductClassDesc        401125 non-null  category\n",
      " 16  state                     401125 non-null  category\n",
      " 17  ProductGroup              401125 non-null  category\n",
      " 18  ProductGroupDesc          401125 non-null  category\n",
      " 19  Drive_System              104361 non-null  category\n",
      " 20  Enclosure                 400800 non-null  category\n",
      " 21  Forks                     192077 non-null  category\n",
      " 22  Pad_Type                  79134 non-null   category\n",
      " 23  Ride_Control              148606 non-null  category\n",
      " 24  Stick                     79134 non-null   category\n",
      " 25  Transmission              183230 non-null  category\n",
      " 26  Turbocharged              79134 non-null   category\n",
      " 27  Blade_Extension           25219 non-null   category\n",
      " 28  Blade_Width               25219 non-null   category\n",
      " 29  Enclosure_Type            25219 non-null   category\n",
      " 30  Engine_Horsepower         25219 non-null   category\n",
      " 31  Hydraulics                320570 non-null  category\n",
      " 32  Pushblock                 25219 non-null   category\n",
      " 33  Ripper                    104137 non-null  category\n",
      " 34  Scarifier                 25230 non-null   category\n",
      " 35  Tip_Control               25219 non-null   category\n",
      " 36  Tire_Size                 94718 non-null   category\n",
      " 37  Coupler                   213952 non-null  category\n",
      " 38  Coupler_System            43458 non-null   category\n",
      " 39  Grouser_Tracks            43362 non-null   category\n",
      " 40  Hydraulics_Flow           43362 non-null   category\n",
      " 41  Track_Type                99153 non-null   category\n",
      " 42  Undercarriage_Pad_Width   99872 non-null   category\n",
      " 43  Stick_Length              99218 non-null   category\n",
      " 44  Thumb                     99288 non-null   category\n",
      " 45  Pattern_Changer           99218 non-null   category\n",
      " 46  Grouser_Type              99153 non-null   category\n",
      " 47  Backhoe_Mounting          78672 non-null   category\n",
      " 48  Blade_Type                79833 non-null   category\n",
      " 49  Travel_Controls           79834 non-null   category\n",
      " 50  Differential_Type         69411 non-null   category\n",
      " 51  Steering_Controls         69369 non-null   category\n",
      " 52  saleYear                  401125 non-null  int32   \n",
      " 53  saleMonth                 401125 non-null  int32   \n",
      " 54  saleDay                   401125 non-null  int32   \n",
      " 55  saleDayofweek             401125 non-null  int32   \n",
      " 56  saleDayofyear             401125 non-null  int32   \n",
      "dtypes: category(44), float64(2), int32(5), int64(6)\n",
      "memory usage: 53.8 MB\n"
     ]
    }
   ],
   "source": [
    "df.info()"
   ]
  },
  {
   "cell_type": "code",
   "execution_count": 31,
   "metadata": {},
   "outputs": [
    {
     "data": {
      "text/plain": [
       "CategoricalDtype(categories=['Alabama', 'Alaska', 'Arizona', 'Arkansas', 'California',\n",
       "                  'Colorado', 'Connecticut', 'Delaware', 'Florida', 'Georgia',\n",
       "                  'Hawaii', 'Idaho', 'Illinois', 'Indiana', 'Iowa', 'Kansas',\n",
       "                  'Kentucky', 'Louisiana', 'Maine', 'Maryland',\n",
       "                  'Massachusetts', 'Michigan', 'Minnesota', 'Mississippi',\n",
       "                  'Missouri', 'Montana', 'Nebraska', 'Nevada', 'New Hampshire',\n",
       "                  'New Jersey', 'New Mexico', 'New York', 'North Carolina',\n",
       "                  'North Dakota', 'Ohio', 'Oklahoma', 'Oregon', 'Pennsylvania',\n",
       "                  'Puerto Rico', 'Rhode Island', 'South Carolina',\n",
       "                  'South Dakota', 'Tennessee', 'Texas', 'Unspecified', 'Utah',\n",
       "                  'Vermont', 'Virginia', 'Washington', 'Washington DC',\n",
       "                  'West Virginia', 'Wisconsin', 'Wyoming'],\n",
       ", ordered=False, categories_dtype=object)"
      ]
     },
     "execution_count": 31,
     "metadata": {},
     "output_type": "execute_result"
    }
   ],
   "source": [
    "# Exploring a categorical column\n",
    "df.state.dtype"
   ]
  },
  {
   "cell_type": "code",
   "execution_count": 32,
   "metadata": {},
   "outputs": [
    {
     "data": {
      "text/plain": [
       "Index(['Alabama', 'Alaska', 'Arizona', 'Arkansas', 'California', 'Colorado',\n",
       "       'Connecticut', 'Delaware', 'Florida', 'Georgia', 'Hawaii', 'Idaho',\n",
       "       'Illinois', 'Indiana', 'Iowa', 'Kansas', 'Kentucky', 'Louisiana',\n",
       "       'Maine', 'Maryland', 'Massachusetts', 'Michigan', 'Minnesota',\n",
       "       'Mississippi', 'Missouri', 'Montana', 'Nebraska', 'Nevada',\n",
       "       'New Hampshire', 'New Jersey', 'New Mexico', 'New York',\n",
       "       'North Carolina', 'North Dakota', 'Ohio', 'Oklahoma', 'Oregon',\n",
       "       'Pennsylvania', 'Puerto Rico', 'Rhode Island', 'South Carolina',\n",
       "       'South Dakota', 'Tennessee', 'Texas', 'Unspecified', 'Utah', 'Vermont',\n",
       "       'Virginia', 'Washington', 'Washington DC', 'West Virginia', 'Wisconsin',\n",
       "       'Wyoming'],\n",
       "      dtype='object')"
      ]
     },
     "execution_count": 32,
     "metadata": {},
     "output_type": "execute_result"
    }
   ],
   "source": [
    "df.state.cat.categories"
   ]
  },
  {
   "cell_type": "code",
   "execution_count": 33,
   "metadata": {},
   "outputs": [
    {
     "data": {
      "text/plain": [
       "205615    43\n",
       "92803      8\n",
       "98346      8\n",
       "169297     8\n",
       "274835     8\n",
       "          ..\n",
       "393123    31\n",
       "397987    31\n",
       "392664    31\n",
       "400458    31\n",
       "400217    31\n",
       "Length: 401125, dtype: int8"
      ]
     },
     "execution_count": 33,
     "metadata": {},
     "output_type": "execute_result"
    }
   ],
   "source": [
    "df.state.cat.codes"
   ]
  },
  {
   "cell_type": "code",
   "execution_count": 34,
   "metadata": {},
   "outputs": [
    {
     "name": "stdout",
     "output_type": "stream",
     "text": [
      "[INFO] Target state category number 41 maps to: South Dakota\n"
     ]
    }
   ],
   "source": [
    "# Get example string using category number\n",
    "sample_state_cat_num = 41\n",
    "\n",
    "target_state_cat_value = df.state.cat.categories[sample_state_cat_num]\n",
    "\n",
    "print(\n",
    "    f\"[INFO] Target state category number {sample_state_cat_num} maps to: {target_state_cat_value}\"\n",
    ")"
   ]
  },
  {
   "cell_type": "markdown",
   "metadata": {},
   "source": [
    "> CSV format fails to preserve the pandas category columns, so we can use another popular format like `parquet`. To use parquet, we need to install the `pyarrow` or `fastparquet` packages using `pip install pyarrow fastparquet`\n"
   ]
  },
  {
   "cell_type": "code",
   "execution_count": 35,
   "metadata": {},
   "outputs": [],
   "source": [
    "df.to_parquet(\n",
    "    path=\"data/bulldozer/Train_object_values_as_categories.parquet\",\n",
    "    engine=\"pyarrow\",  # If \"auto\" option is used, it will automatically use pyarrow or fastparquet, defaulting to pyarrow first\n",
    ")"
   ]
  },
  {
   "cell_type": "code",
   "execution_count": 36,
   "metadata": {},
   "outputs": [],
   "source": [
    "# Read in df from parquet format\n",
    "df = pd.read_parquet(\n",
    "    \"data/bulldozer/Train_object_values_as_categories.parquet\", engine=\"pyarrow\"\n",
    ")"
   ]
  },
  {
   "cell_type": "code",
   "execution_count": 37,
   "metadata": {},
   "outputs": [
    {
     "name": "stdout",
     "output_type": "stream",
     "text": [
      "<class 'pandas.core.frame.DataFrame'>\n",
      "Index: 401125 entries, 205615 to 400217\n",
      "Data columns (total 57 columns):\n",
      " #   Column                    Non-Null Count   Dtype   \n",
      "---  ------                    --------------   -----   \n",
      " 0   SalesID                   401125 non-null  int64   \n",
      " 1   SalePrice                 401125 non-null  int64   \n",
      " 2   MachineID                 401125 non-null  int64   \n",
      " 3   ModelID                   401125 non-null  int64   \n",
      " 4   datasource                401125 non-null  int64   \n",
      " 5   auctioneerID              380989 non-null  float64 \n",
      " 6   YearMade                  401125 non-null  int64   \n",
      " 7   MachineHoursCurrentMeter  142765 non-null  float64 \n",
      " 8   UsageBand                 69639 non-null   category\n",
      " 9   fiModelDesc               401125 non-null  category\n",
      " 10  fiBaseModel               401125 non-null  category\n",
      " 11  fiSecondaryDesc           263934 non-null  category\n",
      " 12  fiModelSeries             56908 non-null   category\n",
      " 13  fiModelDescriptor         71919 non-null   category\n",
      " 14  ProductSize               190350 non-null  category\n",
      " 15  fiProductClassDesc        401125 non-null  category\n",
      " 16  state                     401125 non-null  category\n",
      " 17  ProductGroup              401125 non-null  category\n",
      " 18  ProductGroupDesc          401125 non-null  category\n",
      " 19  Drive_System              104361 non-null  category\n",
      " 20  Enclosure                 400800 non-null  category\n",
      " 21  Forks                     192077 non-null  category\n",
      " 22  Pad_Type                  79134 non-null   category\n",
      " 23  Ride_Control              148606 non-null  category\n",
      " 24  Stick                     79134 non-null   category\n",
      " 25  Transmission              183230 non-null  category\n",
      " 26  Turbocharged              79134 non-null   category\n",
      " 27  Blade_Extension           25219 non-null   category\n",
      " 28  Blade_Width               25219 non-null   category\n",
      " 29  Enclosure_Type            25219 non-null   category\n",
      " 30  Engine_Horsepower         25219 non-null   category\n",
      " 31  Hydraulics                320570 non-null  category\n",
      " 32  Pushblock                 25219 non-null   category\n",
      " 33  Ripper                    104137 non-null  category\n",
      " 34  Scarifier                 25230 non-null   category\n",
      " 35  Tip_Control               25219 non-null   category\n",
      " 36  Tire_Size                 94718 non-null   category\n",
      " 37  Coupler                   213952 non-null  category\n",
      " 38  Coupler_System            43458 non-null   category\n",
      " 39  Grouser_Tracks            43362 non-null   category\n",
      " 40  Hydraulics_Flow           43362 non-null   category\n",
      " 41  Track_Type                99153 non-null   category\n",
      " 42  Undercarriage_Pad_Width   99872 non-null   category\n",
      " 43  Stick_Length              99218 non-null   category\n",
      " 44  Thumb                     99288 non-null   category\n",
      " 45  Pattern_Changer           99218 non-null   category\n",
      " 46  Grouser_Type              99153 non-null   category\n",
      " 47  Backhoe_Mounting          78672 non-null   category\n",
      " 48  Blade_Type                79833 non-null   category\n",
      " 49  Travel_Controls           79834 non-null   category\n",
      " 50  Differential_Type         69411 non-null   category\n",
      " 51  Steering_Controls         69369 non-null   category\n",
      " 52  saleYear                  401125 non-null  int32   \n",
      " 53  saleMonth                 401125 non-null  int32   \n",
      " 54  saleDay                   401125 non-null  int32   \n",
      " 55  saleDayofweek             401125 non-null  int32   \n",
      " 56  saleDayofyear             401125 non-null  int32   \n",
      "dtypes: category(44), float64(2), int32(5), int64(6)\n",
      "memory usage: 53.8 MB\n"
     ]
    }
   ],
   "source": [
    "df.info()"
   ]
  },
  {
   "cell_type": "code",
   "execution_count": 38,
   "metadata": {},
   "outputs": [
    {
     "data": {
      "text/plain": [
       "Blade_Width          375906\n",
       "Engine_Horsepower    375906\n",
       "Tip_Control          375906\n",
       "Pushblock            375906\n",
       "Blade_Extension      375906\n",
       "Enclosure_Type       375906\n",
       "Scarifier            375895\n",
       "Hydraulics_Flow      357763\n",
       "Grouser_Tracks       357763\n",
       "Coupler_System       357667\n",
       "fiModelSeries        344217\n",
       "Steering_Controls    331756\n",
       "Differential_Type    331714\n",
       "UsageBand            331486\n",
       "fiModelDescriptor    329206\n",
       "Backhoe_Mounting     322453\n",
       "Stick                321991\n",
       "Turbocharged         321991\n",
       "Pad_Type             321991\n",
       "Blade_Type           321292\n",
       "dtype: int64"
      ]
     },
     "execution_count": 38,
     "metadata": {},
     "output_type": "execute_result"
    }
   ],
   "source": [
    "# Check missing values\n",
    "df.isna().sum().sort_values(ascending=False)[:20]"
   ]
  },
  {
   "cell_type": "markdown",
   "metadata": {},
   "source": [
    "#### Find numeric columns and fill (impute) missing values with median\n"
   ]
  },
  {
   "cell_type": "code",
   "execution_count": 39,
   "metadata": {},
   "outputs": [
    {
     "name": "stdout",
     "output_type": "stream",
     "text": [
      "Column name: SalesID | Column dtype: int64 | Example value: [2275520] | Example value dtype: integer\n",
      "Column name: SalePrice | Column dtype: int64 | Example value: [47000] | Example value dtype: integer\n",
      "Column name: MachineID | Column dtype: int64 | Example value: [1325134] | Example value dtype: integer\n",
      "Column name: ModelID | Column dtype: int64 | Example value: [266] | Example value dtype: integer\n",
      "Column name: datasource | Column dtype: int64 | Example value: [132] | Example value dtype: integer\n",
      "Column name: auctioneerID | Column dtype: float64 | Example value: [9.] | Example value dtype: floating\n",
      "Column name: YearMade | Column dtype: int64 | Example value: [1000] | Example value dtype: integer\n",
      "Column name: MachineHoursCurrentMeter | Column dtype: float64 | Example value: [nan] | Example value dtype: floating\n",
      "Column name: saleYear | Column dtype: int32 | Example value: [1996] | Example value dtype: integer\n",
      "Column name: saleMonth | Column dtype: int32 | Example value: [9] | Example value dtype: integer\n",
      "Column name: saleDay | Column dtype: int32 | Example value: [27] | Example value dtype: integer\n",
      "Column name: saleDayofweek | Column dtype: int32 | Example value: [5] | Example value dtype: integer\n",
      "Column name: saleDayofyear | Column dtype: int32 | Example value: [232] | Example value dtype: integer\n"
     ]
    }
   ],
   "source": [
    "# Find numeric columns\n",
    "for label, content in df.items():\n",
    "    if pd.api.types.is_numeric_dtype(content):\n",
    "        # Check datatype of target column\n",
    "        column_datatype = df[label].dtype.name\n",
    "\n",
    "        # Get random sample from column values\n",
    "        example_value = content.sample(1).values\n",
    "\n",
    "        # Infer random sample datatype\n",
    "        example_value_dtype = pd.api.types.infer_dtype(example_value)\n",
    "        print(\n",
    "            f\"Column name: {label} | Column dtype: {column_datatype} | Example value: {example_value} | Example value dtype: {example_value_dtype}\"\n",
    "        )"
   ]
  },
  {
   "cell_type": "code",
   "execution_count": 40,
   "metadata": {},
   "outputs": [
    {
     "name": "stdout",
     "output_type": "stream",
     "text": [
      "Column name: SalesID | Has missing values: False\n",
      "Column name: SalePrice | Has missing values: False\n",
      "Column name: MachineID | Has missing values: False\n",
      "Column name: ModelID | Has missing values: False\n",
      "Column name: datasource | Has missing values: False\n",
      "Column name: auctioneerID | Has missing values: True\n",
      "Column name: YearMade | Has missing values: False\n",
      "Column name: MachineHoursCurrentMeter | Has missing values: True\n",
      "Column name: saleYear | Has missing values: False\n",
      "Column name: saleMonth | Has missing values: False\n",
      "Column name: saleDay | Has missing values: False\n",
      "Column name: saleDayofweek | Has missing values: False\n",
      "Column name: saleDayofyear | Has missing values: False\n"
     ]
    }
   ],
   "source": [
    "# Check for which numeric columns have null values\n",
    "for label, content in df.items():\n",
    "    if pd.api.types.is_numeric_dtype(content):\n",
    "        if pd.isnull(content).sum():\n",
    "            print(f\"Column name: {label} | Has missing values: {True}\")\n",
    "        else:\n",
    "            print(f\"Column name: {label} | Has missing values: {False}\")"
   ]
  },
  {
   "cell_type": "code",
   "execution_count": 41,
   "metadata": {},
   "outputs": [],
   "source": [
    "# Fill missing numeric values with the median of the target column\n",
    "for label, content in df.items():\n",
    "    if pd.api.types.is_numeric_dtype(content):\n",
    "        if pd.isnull(content).sum():\n",
    "\n",
    "            # Add a binary column which tells if the data was missing our not\n",
    "            df[label + \"_is_missing\"] = pd.isnull(content).astype(\n",
    "                int\n",
    "            )  # this will add a 0 or 1 value to rows with missing values (e.g. 0 = not missing, 1 = missing)\n",
    "\n",
    "            # Fill missing numeric values with median since it's more robust than the mean\n",
    "            df[label] = content.fillna(content.median())"
   ]
  },
  {
   "cell_type": "code",
   "execution_count": 42,
   "metadata": {},
   "outputs": [
    {
     "data": {
      "text/html": [
       "<div>\n",
       "<style scoped>\n",
       "    .dataframe tbody tr th:only-of-type {\n",
       "        vertical-align: middle;\n",
       "    }\n",
       "\n",
       "    .dataframe tbody tr th {\n",
       "        vertical-align: top;\n",
       "    }\n",
       "\n",
       "    .dataframe thead th {\n",
       "        text-align: right;\n",
       "    }\n",
       "</style>\n",
       "<table border=\"1\" class=\"dataframe\">\n",
       "  <thead>\n",
       "    <tr style=\"text-align: right;\">\n",
       "      <th></th>\n",
       "      <th>SalesID</th>\n",
       "      <th>SalePrice</th>\n",
       "      <th>MachineID</th>\n",
       "      <th>ModelID</th>\n",
       "      <th>datasource</th>\n",
       "      <th>auctioneerID</th>\n",
       "      <th>YearMade</th>\n",
       "      <th>MachineHoursCurrentMeter</th>\n",
       "      <th>UsageBand</th>\n",
       "      <th>fiModelDesc</th>\n",
       "      <th>...</th>\n",
       "      <th>Travel_Controls</th>\n",
       "      <th>Differential_Type</th>\n",
       "      <th>Steering_Controls</th>\n",
       "      <th>saleYear</th>\n",
       "      <th>saleMonth</th>\n",
       "      <th>saleDay</th>\n",
       "      <th>saleDayofweek</th>\n",
       "      <th>saleDayofyear</th>\n",
       "      <th>auctioneerID_is_missing</th>\n",
       "      <th>MachineHoursCurrentMeter_is_missing</th>\n",
       "    </tr>\n",
       "  </thead>\n",
       "  <tbody>\n",
       "    <tr>\n",
       "      <th>149485</th>\n",
       "      <td>1522921</td>\n",
       "      <td>44000</td>\n",
       "      <td>1342516</td>\n",
       "      <td>3466</td>\n",
       "      <td>132</td>\n",
       "      <td>11.0</td>\n",
       "      <td>1997</td>\n",
       "      <td>0.0</td>\n",
       "      <td>NaN</td>\n",
       "      <td>312B</td>\n",
       "      <td>...</td>\n",
       "      <td>NaN</td>\n",
       "      <td>NaN</td>\n",
       "      <td>NaN</td>\n",
       "      <td>2001</td>\n",
       "      <td>1</td>\n",
       "      <td>25</td>\n",
       "      <td>3</td>\n",
       "      <td>25</td>\n",
       "      <td>0</td>\n",
       "      <td>1</td>\n",
       "    </tr>\n",
       "    <tr>\n",
       "      <th>82428</th>\n",
       "      <td>1381110</td>\n",
       "      <td>40000</td>\n",
       "      <td>173113</td>\n",
       "      <td>4128</td>\n",
       "      <td>132</td>\n",
       "      <td>1.0</td>\n",
       "      <td>1988</td>\n",
       "      <td>0.0</td>\n",
       "      <td>NaN</td>\n",
       "      <td>D6H</td>\n",
       "      <td>...</td>\n",
       "      <td>None or Unspecified</td>\n",
       "      <td>NaN</td>\n",
       "      <td>NaN</td>\n",
       "      <td>2001</td>\n",
       "      <td>3</td>\n",
       "      <td>13</td>\n",
       "      <td>1</td>\n",
       "      <td>72</td>\n",
       "      <td>0</td>\n",
       "      <td>1</td>\n",
       "    </tr>\n",
       "    <tr>\n",
       "      <th>34687</th>\n",
       "      <td>1270477</td>\n",
       "      <td>9500</td>\n",
       "      <td>1418949</td>\n",
       "      <td>3112</td>\n",
       "      <td>132</td>\n",
       "      <td>22.0</td>\n",
       "      <td>1993</td>\n",
       "      <td>0.0</td>\n",
       "      <td>NaN</td>\n",
       "      <td>1845C</td>\n",
       "      <td>...</td>\n",
       "      <td>NaN</td>\n",
       "      <td>NaN</td>\n",
       "      <td>NaN</td>\n",
       "      <td>2000</td>\n",
       "      <td>6</td>\n",
       "      <td>10</td>\n",
       "      <td>5</td>\n",
       "      <td>162</td>\n",
       "      <td>0</td>\n",
       "      <td>1</td>\n",
       "    </tr>\n",
       "    <tr>\n",
       "      <th>233370</th>\n",
       "      <td>1729257</td>\n",
       "      <td>9800</td>\n",
       "      <td>1162095</td>\n",
       "      <td>2253</td>\n",
       "      <td>132</td>\n",
       "      <td>9.0</td>\n",
       "      <td>1000</td>\n",
       "      <td>0.0</td>\n",
       "      <td>NaN</td>\n",
       "      <td>PC27R</td>\n",
       "      <td>...</td>\n",
       "      <td>NaN</td>\n",
       "      <td>NaN</td>\n",
       "      <td>NaN</td>\n",
       "      <td>2005</td>\n",
       "      <td>2</td>\n",
       "      <td>16</td>\n",
       "      <td>2</td>\n",
       "      <td>47</td>\n",
       "      <td>0</td>\n",
       "      <td>1</td>\n",
       "    </tr>\n",
       "  </tbody>\n",
       "</table>\n",
       "<p>4 rows × 59 columns</p>\n",
       "</div>"
      ],
      "text/plain": [
       "        SalesID  SalePrice  MachineID  ModelID  datasource  auctioneerID  \\\n",
       "149485  1522921      44000    1342516     3466         132          11.0   \n",
       "82428   1381110      40000     173113     4128         132           1.0   \n",
       "34687   1270477       9500    1418949     3112         132          22.0   \n",
       "233370  1729257       9800    1162095     2253         132           9.0   \n",
       "\n",
       "        YearMade  MachineHoursCurrentMeter UsageBand fiModelDesc  ...  \\\n",
       "149485      1997                       0.0       NaN        312B  ...   \n",
       "82428       1988                       0.0       NaN         D6H  ...   \n",
       "34687       1993                       0.0       NaN       1845C  ...   \n",
       "233370      1000                       0.0       NaN       PC27R  ...   \n",
       "\n",
       "            Travel_Controls Differential_Type Steering_Controls saleYear  \\\n",
       "149485                  NaN               NaN               NaN     2001   \n",
       "82428   None or Unspecified               NaN               NaN     2001   \n",
       "34687                   NaN               NaN               NaN     2000   \n",
       "233370                  NaN               NaN               NaN     2005   \n",
       "\n",
       "       saleMonth saleDay saleDayofweek saleDayofyear auctioneerID_is_missing  \\\n",
       "149485         1      25             3            25                       0   \n",
       "82428          3      13             1            72                       0   \n",
       "34687          6      10             5           162                       0   \n",
       "233370         2      16             2            47                       0   \n",
       "\n",
       "       MachineHoursCurrentMeter_is_missing  \n",
       "149485                                   1  \n",
       "82428                                    1  \n",
       "34687                                    1  \n",
       "233370                                   1  \n",
       "\n",
       "[4 rows x 59 columns]"
      ]
     },
     "execution_count": 42,
     "metadata": {},
     "output_type": "execute_result"
    }
   ],
   "source": [
    "# Show rows where MachineHoursCurrentMeter_is_missing == 1\n",
    "df[df[\"MachineHoursCurrentMeter_is_missing\"] == 1].sample(4)"
   ]
  },
  {
   "cell_type": "code",
   "execution_count": 43,
   "metadata": {},
   "outputs": [
    {
     "data": {
      "text/html": [
       "<div>\n",
       "<style scoped>\n",
       "    .dataframe tbody tr th:only-of-type {\n",
       "        vertical-align: middle;\n",
       "    }\n",
       "\n",
       "    .dataframe tbody tr th {\n",
       "        vertical-align: top;\n",
       "    }\n",
       "\n",
       "    .dataframe thead th {\n",
       "        text-align: right;\n",
       "    }\n",
       "</style>\n",
       "<table border=\"1\" class=\"dataframe\">\n",
       "  <thead>\n",
       "    <tr style=\"text-align: right;\">\n",
       "      <th></th>\n",
       "      <th>SalesID</th>\n",
       "      <th>SalePrice</th>\n",
       "      <th>MachineID</th>\n",
       "      <th>ModelID</th>\n",
       "      <th>datasource</th>\n",
       "      <th>auctioneerID</th>\n",
       "      <th>YearMade</th>\n",
       "      <th>MachineHoursCurrentMeter</th>\n",
       "      <th>UsageBand</th>\n",
       "      <th>fiModelDesc</th>\n",
       "      <th>...</th>\n",
       "      <th>Travel_Controls</th>\n",
       "      <th>Differential_Type</th>\n",
       "      <th>Steering_Controls</th>\n",
       "      <th>saleYear</th>\n",
       "      <th>saleMonth</th>\n",
       "      <th>saleDay</th>\n",
       "      <th>saleDayofweek</th>\n",
       "      <th>saleDayofyear</th>\n",
       "      <th>auctioneerID_is_missing</th>\n",
       "      <th>MachineHoursCurrentMeter_is_missing</th>\n",
       "    </tr>\n",
       "  </thead>\n",
       "  <tbody>\n",
       "    <tr>\n",
       "      <th>290227</th>\n",
       "      <td>2207815</td>\n",
       "      <td>23000</td>\n",
       "      <td>1750784</td>\n",
       "      <td>13251</td>\n",
       "      <td>136</td>\n",
       "      <td>2.0</td>\n",
       "      <td>1999</td>\n",
       "      <td>0.0</td>\n",
       "      <td>NaN</td>\n",
       "      <td>580SUPER LII</td>\n",
       "      <td>...</td>\n",
       "      <td>NaN</td>\n",
       "      <td>NaN</td>\n",
       "      <td>NaN</td>\n",
       "      <td>2007</td>\n",
       "      <td>12</td>\n",
       "      <td>5</td>\n",
       "      <td>2</td>\n",
       "      <td>339</td>\n",
       "      <td>1</td>\n",
       "      <td>0</td>\n",
       "    </tr>\n",
       "    <tr>\n",
       "      <th>302725</th>\n",
       "      <td>2247540</td>\n",
       "      <td>15500</td>\n",
       "      <td>1325834</td>\n",
       "      <td>7110</td>\n",
       "      <td>136</td>\n",
       "      <td>2.0</td>\n",
       "      <td>1987</td>\n",
       "      <td>0.0</td>\n",
       "      <td>NaN</td>\n",
       "      <td>416</td>\n",
       "      <td>...</td>\n",
       "      <td>NaN</td>\n",
       "      <td>NaN</td>\n",
       "      <td>NaN</td>\n",
       "      <td>2009</td>\n",
       "      <td>5</td>\n",
       "      <td>6</td>\n",
       "      <td>2</td>\n",
       "      <td>126</td>\n",
       "      <td>1</td>\n",
       "      <td>0</td>\n",
       "    </tr>\n",
       "    <tr>\n",
       "      <th>334289</th>\n",
       "      <td>2346667</td>\n",
       "      <td>42000</td>\n",
       "      <td>1658726</td>\n",
       "      <td>11390</td>\n",
       "      <td>136</td>\n",
       "      <td>2.0</td>\n",
       "      <td>2003</td>\n",
       "      <td>6044.0</td>\n",
       "      <td>High</td>\n",
       "      <td>160CLC</td>\n",
       "      <td>...</td>\n",
       "      <td>NaN</td>\n",
       "      <td>NaN</td>\n",
       "      <td>NaN</td>\n",
       "      <td>2007</td>\n",
       "      <td>12</td>\n",
       "      <td>12</td>\n",
       "      <td>2</td>\n",
       "      <td>346</td>\n",
       "      <td>1</td>\n",
       "      <td>0</td>\n",
       "    </tr>\n",
       "    <tr>\n",
       "      <th>340333</th>\n",
       "      <td>2356098</td>\n",
       "      <td>55000</td>\n",
       "      <td>1734792</td>\n",
       "      <td>22155</td>\n",
       "      <td>136</td>\n",
       "      <td>2.0</td>\n",
       "      <td>1000</td>\n",
       "      <td>0.0</td>\n",
       "      <td>NaN</td>\n",
       "      <td>650JLGP</td>\n",
       "      <td>...</td>\n",
       "      <td>None or Unspecified</td>\n",
       "      <td>NaN</td>\n",
       "      <td>NaN</td>\n",
       "      <td>2009</td>\n",
       "      <td>6</td>\n",
       "      <td>17</td>\n",
       "      <td>2</td>\n",
       "      <td>168</td>\n",
       "      <td>1</td>\n",
       "      <td>0</td>\n",
       "    </tr>\n",
       "  </tbody>\n",
       "</table>\n",
       "<p>4 rows × 59 columns</p>\n",
       "</div>"
      ],
      "text/plain": [
       "        SalesID  SalePrice  MachineID  ModelID  datasource  auctioneerID  \\\n",
       "290227  2207815      23000    1750784    13251         136           2.0   \n",
       "302725  2247540      15500    1325834     7110         136           2.0   \n",
       "334289  2346667      42000    1658726    11390         136           2.0   \n",
       "340333  2356098      55000    1734792    22155         136           2.0   \n",
       "\n",
       "        YearMade  MachineHoursCurrentMeter UsageBand   fiModelDesc  ...  \\\n",
       "290227      1999                       0.0       NaN  580SUPER LII  ...   \n",
       "302725      1987                       0.0       NaN           416  ...   \n",
       "334289      2003                    6044.0      High        160CLC  ...   \n",
       "340333      1000                       0.0       NaN       650JLGP  ...   \n",
       "\n",
       "            Travel_Controls Differential_Type Steering_Controls saleYear  \\\n",
       "290227                  NaN               NaN               NaN     2007   \n",
       "302725                  NaN               NaN               NaN     2009   \n",
       "334289                  NaN               NaN               NaN     2007   \n",
       "340333  None or Unspecified               NaN               NaN     2009   \n",
       "\n",
       "       saleMonth saleDay saleDayofweek saleDayofyear auctioneerID_is_missing  \\\n",
       "290227        12       5             2           339                       1   \n",
       "302725         5       6             2           126                       1   \n",
       "334289        12      12             2           346                       1   \n",
       "340333         6      17             2           168                       1   \n",
       "\n",
       "       MachineHoursCurrentMeter_is_missing  \n",
       "290227                                   0  \n",
       "302725                                   0  \n",
       "334289                                   0  \n",
       "340333                                   0  \n",
       "\n",
       "[4 rows x 59 columns]"
      ]
     },
     "execution_count": 43,
     "metadata": {},
     "output_type": "execute_result"
    }
   ],
   "source": [
    "# Rows where auctioneerID_is_missing == 1\n",
    "df[df[\"auctioneerID_is_missing\"] == 1].sample(4)"
   ]
  },
  {
   "cell_type": "code",
   "execution_count": 44,
   "metadata": {},
   "outputs": [
    {
     "name": "stdout",
     "output_type": "stream",
     "text": [
      "[INFO] No numeric columns have missing values\n"
     ]
    }
   ],
   "source": [
    "# Re-check for which numeric columns have null values\n",
    "for label, content in df.items():\n",
    "    if pd.api.types.is_numeric_dtype(content):\n",
    "        if pd.isnull(content).sum():\n",
    "            print(f\"Column name: {label} | Has missing values: {True}\")\n",
    "            break\n",
    "else:\n",
    "    print(\"[INFO] No numeric columns have missing values\")"
   ]
  },
  {
   "cell_type": "code",
   "execution_count": 45,
   "metadata": {},
   "outputs": [
    {
     "data": {
      "text/plain": [
       "auctioneerID_is_missing\n",
       "0    380989\n",
       "1     20136\n",
       "Name: count, dtype: int64"
      ]
     },
     "execution_count": 45,
     "metadata": {},
     "output_type": "execute_result"
    }
   ],
   "source": [
    "# Check to see how many examples in the auctioneerID were missing\n",
    "df.auctioneerID_is_missing.value_counts()"
   ]
  },
  {
   "cell_type": "code",
   "execution_count": 46,
   "metadata": {},
   "outputs": [
    {
     "name": "stdout",
     "output_type": "stream",
     "text": [
      "<class 'pandas.core.frame.DataFrame'>\n",
      "Index: 401125 entries, 205615 to 400217\n",
      "Data columns (total 59 columns):\n",
      " #   Column                               Non-Null Count   Dtype   \n",
      "---  ------                               --------------   -----   \n",
      " 0   SalesID                              401125 non-null  int64   \n",
      " 1   SalePrice                            401125 non-null  int64   \n",
      " 2   MachineID                            401125 non-null  int64   \n",
      " 3   ModelID                              401125 non-null  int64   \n",
      " 4   datasource                           401125 non-null  int64   \n",
      " 5   auctioneerID                         401125 non-null  float64 \n",
      " 6   YearMade                             401125 non-null  int64   \n",
      " 7   MachineHoursCurrentMeter             401125 non-null  float64 \n",
      " 8   UsageBand                            69639 non-null   category\n",
      " 9   fiModelDesc                          401125 non-null  category\n",
      " 10  fiBaseModel                          401125 non-null  category\n",
      " 11  fiSecondaryDesc                      263934 non-null  category\n",
      " 12  fiModelSeries                        56908 non-null   category\n",
      " 13  fiModelDescriptor                    71919 non-null   category\n",
      " 14  ProductSize                          190350 non-null  category\n",
      " 15  fiProductClassDesc                   401125 non-null  category\n",
      " 16  state                                401125 non-null  category\n",
      " 17  ProductGroup                         401125 non-null  category\n",
      " 18  ProductGroupDesc                     401125 non-null  category\n",
      " 19  Drive_System                         104361 non-null  category\n",
      " 20  Enclosure                            400800 non-null  category\n",
      " 21  Forks                                192077 non-null  category\n",
      " 22  Pad_Type                             79134 non-null   category\n",
      " 23  Ride_Control                         148606 non-null  category\n",
      " 24  Stick                                79134 non-null   category\n",
      " 25  Transmission                         183230 non-null  category\n",
      " 26  Turbocharged                         79134 non-null   category\n",
      " 27  Blade_Extension                      25219 non-null   category\n",
      " 28  Blade_Width                          25219 non-null   category\n",
      " 29  Enclosure_Type                       25219 non-null   category\n",
      " 30  Engine_Horsepower                    25219 non-null   category\n",
      " 31  Hydraulics                           320570 non-null  category\n",
      " 32  Pushblock                            25219 non-null   category\n",
      " 33  Ripper                               104137 non-null  category\n",
      " 34  Scarifier                            25230 non-null   category\n",
      " 35  Tip_Control                          25219 non-null   category\n",
      " 36  Tire_Size                            94718 non-null   category\n",
      " 37  Coupler                              213952 non-null  category\n",
      " 38  Coupler_System                       43458 non-null   category\n",
      " 39  Grouser_Tracks                       43362 non-null   category\n",
      " 40  Hydraulics_Flow                      43362 non-null   category\n",
      " 41  Track_Type                           99153 non-null   category\n",
      " 42  Undercarriage_Pad_Width              99872 non-null   category\n",
      " 43  Stick_Length                         99218 non-null   category\n",
      " 44  Thumb                                99288 non-null   category\n",
      " 45  Pattern_Changer                      99218 non-null   category\n",
      " 46  Grouser_Type                         99153 non-null   category\n",
      " 47  Backhoe_Mounting                     78672 non-null   category\n",
      " 48  Blade_Type                           79833 non-null   category\n",
      " 49  Travel_Controls                      79834 non-null   category\n",
      " 50  Differential_Type                    69411 non-null   category\n",
      " 51  Steering_Controls                    69369 non-null   category\n",
      " 52  saleYear                             401125 non-null  int32   \n",
      " 53  saleMonth                            401125 non-null  int32   \n",
      " 54  saleDay                              401125 non-null  int32   \n",
      " 55  saleDayofweek                        401125 non-null  int32   \n",
      " 56  saleDayofyear                        401125 non-null  int32   \n",
      " 57  auctioneerID_is_missing              401125 non-null  int64   \n",
      " 58  MachineHoursCurrentMeter_is_missing  401125 non-null  int64   \n",
      "dtypes: category(44), float64(2), int32(5), int64(8)\n",
      "memory usage: 59.9 MB\n"
     ]
    }
   ],
   "source": [
    "df.info()"
   ]
  },
  {
   "cell_type": "markdown",
   "metadata": {},
   "source": [
    "#### Find non-numeric / object columns with missing values and fill them.\n"
   ]
  },
  {
   "cell_type": "code",
   "execution_count": 48,
   "metadata": {},
   "outputs": [
    {
     "name": "stdout",
     "output_type": "stream",
     "text": [
      "[INFO] Columns which are not numeric: \n",
      "\n",
      "Column name: UsageBand | Column dtype: category\n",
      "Column name: fiModelDesc | Column dtype: category\n",
      "Column name: fiBaseModel | Column dtype: category\n",
      "Column name: fiSecondaryDesc | Column dtype: category\n",
      "Column name: fiModelSeries | Column dtype: category\n",
      "Column name: fiModelDescriptor | Column dtype: category\n",
      "Column name: ProductSize | Column dtype: category\n",
      "Column name: fiProductClassDesc | Column dtype: category\n",
      "Column name: state | Column dtype: category\n",
      "Column name: ProductGroup | Column dtype: category\n",
      "Column name: ProductGroupDesc | Column dtype: category\n",
      "Column name: Drive_System | Column dtype: category\n",
      "Column name: Enclosure | Column dtype: category\n",
      "Column name: Forks | Column dtype: category\n",
      "Column name: Pad_Type | Column dtype: category\n",
      "Column name: Ride_Control | Column dtype: category\n",
      "Column name: Stick | Column dtype: category\n",
      "Column name: Transmission | Column dtype: category\n",
      "Column name: Turbocharged | Column dtype: category\n",
      "Column name: Blade_Extension | Column dtype: category\n",
      "Column name: Blade_Width | Column dtype: category\n",
      "Column name: Enclosure_Type | Column dtype: category\n",
      "Column name: Engine_Horsepower | Column dtype: category\n",
      "Column name: Hydraulics | Column dtype: category\n",
      "Column name: Pushblock | Column dtype: category\n",
      "Column name: Ripper | Column dtype: category\n",
      "Column name: Scarifier | Column dtype: category\n",
      "Column name: Tip_Control | Column dtype: category\n",
      "Column name: Tire_Size | Column dtype: category\n",
      "Column name: Coupler | Column dtype: category\n",
      "Column name: Coupler_System | Column dtype: category\n",
      "Column name: Grouser_Tracks | Column dtype: category\n",
      "Column name: Hydraulics_Flow | Column dtype: category\n",
      "Column name: Track_Type | Column dtype: category\n",
      "Column name: Undercarriage_Pad_Width | Column dtype: category\n",
      "Column name: Stick_Length | Column dtype: category\n",
      "Column name: Thumb | Column dtype: category\n",
      "Column name: Pattern_Changer | Column dtype: category\n",
      "Column name: Grouser_Type | Column dtype: category\n",
      "Column name: Backhoe_Mounting | Column dtype: category\n",
      "Column name: Blade_Type | Column dtype: category\n",
      "Column name: Travel_Controls | Column dtype: category\n",
      "Column name: Differential_Type | Column dtype: category\n",
      "Column name: Steering_Controls | Column dtype: category\n"
     ]
    }
   ],
   "source": [
    "# Check columns which aren't numeric\n",
    "print(f\"[INFO] Columns which are not numeric: \\n\")\n",
    "\n",
    "for label, content in df.items():\n",
    "    if not pd.api.types.is_numeric_dtype(content):\n",
    "        print(f\"Column name: {label} | Column dtype: {df[label].dtype.name}\")"
   ]
  },
  {
   "cell_type": "code",
   "execution_count": 49,
   "metadata": {},
   "outputs": [
    {
     "name": "stdout",
     "output_type": "stream",
     "text": [
      "UsageBand: {np.int8(0): nan, np.int8(3): 'Medium', np.int8(2): 'Low', np.int8(1): 'High'}\n"
     ]
    }
   ],
   "source": [
    "# 1. Create a dictionary to store column to category values (e.g. we turn our category types into numbers but we keep a record so we can go back)\n",
    "column_to_category_dict = {}\n",
    "\n",
    "# 2. Turn categorical variables into numbers\n",
    "for label, content in df.items():\n",
    "\n",
    "    # 3. Check columns which *aren't* numeric\n",
    "    if not pd.api.types.is_numeric_dtype(content):\n",
    "\n",
    "        # 4. Add binary column to inidicate whether sample had missing value\n",
    "        df[label + \"_is_missing\"] = pd.isnull(content).astype(int)\n",
    "\n",
    "        # 5. Ensure content is categorical and get its category codes\n",
    "        content_categories = pd.Categorical(content)\n",
    "        content_category_codes = (\n",
    "            content_categories.codes + 1\n",
    "        )  # prevents -1 (the default for NaN values) from being used for missing values (we'll treat missing values as 0)\n",
    "\n",
    "        # 6. Add column key to dictionary with code: category mapping per column\n",
    "        column_to_category_dict[label] = dict(\n",
    "            zip(content_category_codes, content_categories)\n",
    "        )\n",
    "\n",
    "        # 7. Set the column to the numerical values (the category code value)\n",
    "        df[label] = content_category_codes\n",
    "\n",
    "for k, v in column_to_category_dict.items():\n",
    "    print(f\"{k}: {v}\")\n",
    "    break"
   ]
  },
  {
   "cell_type": "code",
   "execution_count": 50,
   "metadata": {},
   "outputs": [
    {
     "data": {
      "text/plain": [
       "array([0, 3, 2, 1], dtype=int8)"
      ]
     },
     "execution_count": 50,
     "metadata": {},
     "output_type": "execute_result"
    }
   ],
   "source": [
    "# Observe UsageBand column\n",
    "df[\"UsageBand\"].unique()"
   ]
  },
  {
   "cell_type": "code",
   "execution_count": 51,
   "metadata": {},
   "outputs": [
    {
     "name": "stdout",
     "output_type": "stream",
     "text": [
      "0 -> nan\n",
      "1 -> High\n",
      "2 -> Low\n",
      "3 -> Medium\n"
     ]
    }
   ],
   "source": [
    "# Check the UsageBand (measure of bulldozer usage)\n",
    "for key, value in sorted(\n",
    "    column_to_category_dict[\"UsageBand\"].items()\n",
    "):  # note: calling sorted() on dictionary.items() sorts the dictionary by keys\n",
    "    print(f\"{key} -> {value}\")"
   ]
  },
  {
   "cell_type": "code",
   "execution_count": 52,
   "metadata": {},
   "outputs": [
    {
     "name": "stdout",
     "output_type": "stream",
     "text": [
      "1 -> Alabama\n",
      "2 -> Alaska\n",
      "3 -> Arizona\n",
      "4 -> Arkansas\n",
      "5 -> California\n",
      "6 -> Colorado\n",
      "7 -> Connecticut\n",
      "8 -> Delaware\n",
      "9 -> Florida\n",
      "10 -> Georgia\n"
     ]
    }
   ],
   "source": [
    "# Check the first 10 state column values\n",
    "for key, value in sorted(column_to_category_dict[\"state\"].items())[:10]:\n",
    "    print(f\"{key} -> {value}\")"
   ]
  },
  {
   "cell_type": "code",
   "execution_count": 53,
   "metadata": {},
   "outputs": [
    {
     "name": "stdout",
     "output_type": "stream",
     "text": [
      "[INFO] Total missing values: 0 - Great!  Let's build an ML model!\n"
     ]
    }
   ],
   "source": [
    "# Check total number of missing values\n",
    "total_missing_values = df.isna().sum().sum()\n",
    "\n",
    "if total_missing_values == 0:\n",
    "    print(\n",
    "        f\"[INFO] Total missing values: {total_missing_values} - Great!  Let's build an ML model!\"\n",
    "    )\n",
    "else:\n",
    "    print(\n",
    "        f\"[INFO] Oh no! Total missing values: {total_missing_values} - Perhaps we might have to retrace our steps to fill the values?\"\n",
    "    )"
   ]
  },
  {
   "cell_type": "code",
   "execution_count": 54,
   "metadata": {},
   "outputs": [],
   "source": [
    "# Save preprocessed data with object values as categories as well as missing values filled\n",
    "df.to_parquet(\n",
    "    path=\"data/bulldozer/Train_object_values_as_categories_and_missing_values_filled.parquet\",\n",
    "    engine=\"pyarrow\",\n",
    ")"
   ]
  },
  {
   "cell_type": "code",
   "execution_count": 55,
   "metadata": {},
   "outputs": [],
   "source": [
    "df = pd.read_parquet(\n",
    "    path=\"data/bulldozer/Train_object_values_as_categories_and_missing_values_filled.parquet\",\n",
    "    engine=\"pyarrow\",\n",
    ")"
   ]
  },
  {
   "cell_type": "code",
   "execution_count": 56,
   "metadata": {},
   "outputs": [
    {
     "name": "stdout",
     "output_type": "stream",
     "text": [
      "<class 'pandas.core.frame.DataFrame'>\n",
      "Index: 401125 entries, 205615 to 400217\n",
      "Columns: 103 entries, SalesID to Steering_Controls_is_missing\n",
      "dtypes: float64(2), int16(4), int32(5), int64(52), int8(40)\n",
      "memory usage: 194.3 MB\n"
     ]
    }
   ],
   "source": [
    "df.info()"
   ]
  },
  {
   "cell_type": "code",
   "execution_count": 57,
   "metadata": {},
   "outputs": [
    {
     "data": {
      "text/html": [
       "<div>\n",
       "<style scoped>\n",
       "    .dataframe tbody tr th:only-of-type {\n",
       "        vertical-align: middle;\n",
       "    }\n",
       "\n",
       "    .dataframe tbody tr th {\n",
       "        vertical-align: top;\n",
       "    }\n",
       "\n",
       "    .dataframe thead th {\n",
       "        text-align: right;\n",
       "    }\n",
       "</style>\n",
       "<table border=\"1\" class=\"dataframe\">\n",
       "  <thead>\n",
       "    <tr style=\"text-align: right;\">\n",
       "      <th></th>\n",
       "      <th>SalesID</th>\n",
       "      <th>SalePrice</th>\n",
       "      <th>MachineID</th>\n",
       "      <th>ModelID</th>\n",
       "      <th>datasource</th>\n",
       "      <th>auctioneerID</th>\n",
       "      <th>YearMade</th>\n",
       "      <th>MachineHoursCurrentMeter</th>\n",
       "      <th>UsageBand</th>\n",
       "      <th>fiModelDesc</th>\n",
       "      <th>...</th>\n",
       "      <th>Undercarriage_Pad_Width_is_missing</th>\n",
       "      <th>Stick_Length_is_missing</th>\n",
       "      <th>Thumb_is_missing</th>\n",
       "      <th>Pattern_Changer_is_missing</th>\n",
       "      <th>Grouser_Type_is_missing</th>\n",
       "      <th>Backhoe_Mounting_is_missing</th>\n",
       "      <th>Blade_Type_is_missing</th>\n",
       "      <th>Travel_Controls_is_missing</th>\n",
       "      <th>Differential_Type_is_missing</th>\n",
       "      <th>Steering_Controls_is_missing</th>\n",
       "    </tr>\n",
       "  </thead>\n",
       "  <tbody>\n",
       "    <tr>\n",
       "      <th>count</th>\n",
       "      <td>4.011250e+05</td>\n",
       "      <td>401125.000000</td>\n",
       "      <td>4.011250e+05</td>\n",
       "      <td>401125.000000</td>\n",
       "      <td>401125.000000</td>\n",
       "      <td>401125.000000</td>\n",
       "      <td>401125.000000</td>\n",
       "      <td>4.011250e+05</td>\n",
       "      <td>401125.000000</td>\n",
       "      <td>401125.000000</td>\n",
       "      <td>...</td>\n",
       "      <td>401125.000000</td>\n",
       "      <td>401125.000000</td>\n",
       "      <td>401125.000000</td>\n",
       "      <td>401125.000000</td>\n",
       "      <td>401125.000000</td>\n",
       "      <td>401125.000000</td>\n",
       "      <td>401125.000000</td>\n",
       "      <td>401125.000000</td>\n",
       "      <td>401125.000000</td>\n",
       "      <td>401125.000000</td>\n",
       "    </tr>\n",
       "    <tr>\n",
       "      <th>mean</th>\n",
       "      <td>1.919713e+06</td>\n",
       "      <td>31099.712848</td>\n",
       "      <td>1.217903e+06</td>\n",
       "      <td>6889.702980</td>\n",
       "      <td>134.665810</td>\n",
       "      <td>6.327332</td>\n",
       "      <td>1899.156901</td>\n",
       "      <td>1.230726e+03</td>\n",
       "      <td>0.401942</td>\n",
       "      <td>1673.709485</td>\n",
       "      <td>...</td>\n",
       "      <td>0.751020</td>\n",
       "      <td>0.752651</td>\n",
       "      <td>0.752476</td>\n",
       "      <td>0.752651</td>\n",
       "      <td>0.752813</td>\n",
       "      <td>0.803872</td>\n",
       "      <td>0.800977</td>\n",
       "      <td>0.800975</td>\n",
       "      <td>0.826959</td>\n",
       "      <td>0.827064</td>\n",
       "    </tr>\n",
       "    <tr>\n",
       "      <th>std</th>\n",
       "      <td>9.090215e+05</td>\n",
       "      <td>23036.898502</td>\n",
       "      <td>4.409920e+05</td>\n",
       "      <td>6221.777842</td>\n",
       "      <td>8.962237</td>\n",
       "      <td>16.575066</td>\n",
       "      <td>291.797469</td>\n",
       "      <td>1.654290e+04</td>\n",
       "      <td>0.930860</td>\n",
       "      <td>1263.331163</td>\n",
       "      <td>...</td>\n",
       "      <td>0.432423</td>\n",
       "      <td>0.431472</td>\n",
       "      <td>0.431574</td>\n",
       "      <td>0.431472</td>\n",
       "      <td>0.431377</td>\n",
       "      <td>0.397067</td>\n",
       "      <td>0.399266</td>\n",
       "      <td>0.399268</td>\n",
       "      <td>0.378283</td>\n",
       "      <td>0.378193</td>\n",
       "    </tr>\n",
       "    <tr>\n",
       "      <th>min</th>\n",
       "      <td>1.139246e+06</td>\n",
       "      <td>4750.000000</td>\n",
       "      <td>0.000000e+00</td>\n",
       "      <td>28.000000</td>\n",
       "      <td>121.000000</td>\n",
       "      <td>0.000000</td>\n",
       "      <td>1000.000000</td>\n",
       "      <td>0.000000e+00</td>\n",
       "      <td>0.000000</td>\n",
       "      <td>1.000000</td>\n",
       "      <td>...</td>\n",
       "      <td>0.000000</td>\n",
       "      <td>0.000000</td>\n",
       "      <td>0.000000</td>\n",
       "      <td>0.000000</td>\n",
       "      <td>0.000000</td>\n",
       "      <td>0.000000</td>\n",
       "      <td>0.000000</td>\n",
       "      <td>0.000000</td>\n",
       "      <td>0.000000</td>\n",
       "      <td>0.000000</td>\n",
       "    </tr>\n",
       "    <tr>\n",
       "      <th>25%</th>\n",
       "      <td>1.418371e+06</td>\n",
       "      <td>14500.000000</td>\n",
       "      <td>1.088697e+06</td>\n",
       "      <td>3259.000000</td>\n",
       "      <td>132.000000</td>\n",
       "      <td>1.000000</td>\n",
       "      <td>1985.000000</td>\n",
       "      <td>0.000000e+00</td>\n",
       "      <td>0.000000</td>\n",
       "      <td>631.000000</td>\n",
       "      <td>...</td>\n",
       "      <td>1.000000</td>\n",
       "      <td>1.000000</td>\n",
       "      <td>1.000000</td>\n",
       "      <td>1.000000</td>\n",
       "      <td>1.000000</td>\n",
       "      <td>1.000000</td>\n",
       "      <td>1.000000</td>\n",
       "      <td>1.000000</td>\n",
       "      <td>1.000000</td>\n",
       "      <td>1.000000</td>\n",
       "    </tr>\n",
       "    <tr>\n",
       "      <th>50%</th>\n",
       "      <td>1.639422e+06</td>\n",
       "      <td>24000.000000</td>\n",
       "      <td>1.279490e+06</td>\n",
       "      <td>4604.000000</td>\n",
       "      <td>132.000000</td>\n",
       "      <td>2.000000</td>\n",
       "      <td>1995.000000</td>\n",
       "      <td>0.000000e+00</td>\n",
       "      <td>0.000000</td>\n",
       "      <td>1395.000000</td>\n",
       "      <td>...</td>\n",
       "      <td>1.000000</td>\n",
       "      <td>1.000000</td>\n",
       "      <td>1.000000</td>\n",
       "      <td>1.000000</td>\n",
       "      <td>1.000000</td>\n",
       "      <td>1.000000</td>\n",
       "      <td>1.000000</td>\n",
       "      <td>1.000000</td>\n",
       "      <td>1.000000</td>\n",
       "      <td>1.000000</td>\n",
       "    </tr>\n",
       "    <tr>\n",
       "      <th>75%</th>\n",
       "      <td>2.242707e+06</td>\n",
       "      <td>40000.000000</td>\n",
       "      <td>1.468067e+06</td>\n",
       "      <td>8724.000000</td>\n",
       "      <td>136.000000</td>\n",
       "      <td>4.000000</td>\n",
       "      <td>2000.000000</td>\n",
       "      <td>0.000000e+00</td>\n",
       "      <td>0.000000</td>\n",
       "      <td>2292.000000</td>\n",
       "      <td>...</td>\n",
       "      <td>1.000000</td>\n",
       "      <td>1.000000</td>\n",
       "      <td>1.000000</td>\n",
       "      <td>1.000000</td>\n",
       "      <td>1.000000</td>\n",
       "      <td>1.000000</td>\n",
       "      <td>1.000000</td>\n",
       "      <td>1.000000</td>\n",
       "      <td>1.000000</td>\n",
       "      <td>1.000000</td>\n",
       "    </tr>\n",
       "    <tr>\n",
       "      <th>max</th>\n",
       "      <td>6.333342e+06</td>\n",
       "      <td>142000.000000</td>\n",
       "      <td>2.486330e+06</td>\n",
       "      <td>37198.000000</td>\n",
       "      <td>172.000000</td>\n",
       "      <td>99.000000</td>\n",
       "      <td>2013.000000</td>\n",
       "      <td>2.483300e+06</td>\n",
       "      <td>3.000000</td>\n",
       "      <td>4999.000000</td>\n",
       "      <td>...</td>\n",
       "      <td>1.000000</td>\n",
       "      <td>1.000000</td>\n",
       "      <td>1.000000</td>\n",
       "      <td>1.000000</td>\n",
       "      <td>1.000000</td>\n",
       "      <td>1.000000</td>\n",
       "      <td>1.000000</td>\n",
       "      <td>1.000000</td>\n",
       "      <td>1.000000</td>\n",
       "      <td>1.000000</td>\n",
       "    </tr>\n",
       "  </tbody>\n",
       "</table>\n",
       "<p>8 rows × 103 columns</p>\n",
       "</div>"
      ],
      "text/plain": [
       "            SalesID      SalePrice     MachineID        ModelID  \\\n",
       "count  4.011250e+05  401125.000000  4.011250e+05  401125.000000   \n",
       "mean   1.919713e+06   31099.712848  1.217903e+06    6889.702980   \n",
       "std    9.090215e+05   23036.898502  4.409920e+05    6221.777842   \n",
       "min    1.139246e+06    4750.000000  0.000000e+00      28.000000   \n",
       "25%    1.418371e+06   14500.000000  1.088697e+06    3259.000000   \n",
       "50%    1.639422e+06   24000.000000  1.279490e+06    4604.000000   \n",
       "75%    2.242707e+06   40000.000000  1.468067e+06    8724.000000   \n",
       "max    6.333342e+06  142000.000000  2.486330e+06   37198.000000   \n",
       "\n",
       "          datasource   auctioneerID       YearMade  MachineHoursCurrentMeter  \\\n",
       "count  401125.000000  401125.000000  401125.000000              4.011250e+05   \n",
       "mean      134.665810       6.327332    1899.156901              1.230726e+03   \n",
       "std         8.962237      16.575066     291.797469              1.654290e+04   \n",
       "min       121.000000       0.000000    1000.000000              0.000000e+00   \n",
       "25%       132.000000       1.000000    1985.000000              0.000000e+00   \n",
       "50%       132.000000       2.000000    1995.000000              0.000000e+00   \n",
       "75%       136.000000       4.000000    2000.000000              0.000000e+00   \n",
       "max       172.000000      99.000000    2013.000000              2.483300e+06   \n",
       "\n",
       "           UsageBand    fiModelDesc  ...  Undercarriage_Pad_Width_is_missing  \\\n",
       "count  401125.000000  401125.000000  ...                       401125.000000   \n",
       "mean        0.401942    1673.709485  ...                            0.751020   \n",
       "std         0.930860    1263.331163  ...                            0.432423   \n",
       "min         0.000000       1.000000  ...                            0.000000   \n",
       "25%         0.000000     631.000000  ...                            1.000000   \n",
       "50%         0.000000    1395.000000  ...                            1.000000   \n",
       "75%         0.000000    2292.000000  ...                            1.000000   \n",
       "max         3.000000    4999.000000  ...                            1.000000   \n",
       "\n",
       "       Stick_Length_is_missing  Thumb_is_missing  Pattern_Changer_is_missing  \\\n",
       "count            401125.000000     401125.000000               401125.000000   \n",
       "mean                  0.752651          0.752476                    0.752651   \n",
       "std                   0.431472          0.431574                    0.431472   \n",
       "min                   0.000000          0.000000                    0.000000   \n",
       "25%                   1.000000          1.000000                    1.000000   \n",
       "50%                   1.000000          1.000000                    1.000000   \n",
       "75%                   1.000000          1.000000                    1.000000   \n",
       "max                   1.000000          1.000000                    1.000000   \n",
       "\n",
       "       Grouser_Type_is_missing  Backhoe_Mounting_is_missing  \\\n",
       "count            401125.000000                401125.000000   \n",
       "mean                  0.752813                     0.803872   \n",
       "std                   0.431377                     0.397067   \n",
       "min                   0.000000                     0.000000   \n",
       "25%                   1.000000                     1.000000   \n",
       "50%                   1.000000                     1.000000   \n",
       "75%                   1.000000                     1.000000   \n",
       "max                   1.000000                     1.000000   \n",
       "\n",
       "       Blade_Type_is_missing  Travel_Controls_is_missing  \\\n",
       "count          401125.000000               401125.000000   \n",
       "mean                0.800977                    0.800975   \n",
       "std                 0.399266                    0.399268   \n",
       "min                 0.000000                    0.000000   \n",
       "25%                 1.000000                    1.000000   \n",
       "50%                 1.000000                    1.000000   \n",
       "75%                 1.000000                    1.000000   \n",
       "max                 1.000000                    1.000000   \n",
       "\n",
       "       Differential_Type_is_missing  Steering_Controls_is_missing  \n",
       "count                 401125.000000                 401125.000000  \n",
       "mean                       0.826959                      0.827064  \n",
       "std                        0.378283                      0.378193  \n",
       "min                        0.000000                      0.000000  \n",
       "25%                        1.000000                      1.000000  \n",
       "50%                        1.000000                      1.000000  \n",
       "75%                        1.000000                      1.000000  \n",
       "max                        1.000000                      1.000000  \n",
       "\n",
       "[8 rows x 103 columns]"
      ]
     },
     "execution_count": 57,
     "metadata": {},
     "output_type": "execute_result"
    }
   ],
   "source": [
    "df.describe()"
   ]
  },
  {
   "cell_type": "code",
   "execution_count": 59,
   "metadata": {},
   "outputs": [
    {
     "data": {
      "text/html": [
       "<div>\n",
       "<style scoped>\n",
       "    .dataframe tbody tr th:only-of-type {\n",
       "        vertical-align: middle;\n",
       "    }\n",
       "\n",
       "    .dataframe tbody tr th {\n",
       "        vertical-align: top;\n",
       "    }\n",
       "\n",
       "    .dataframe thead th {\n",
       "        text-align: right;\n",
       "    }\n",
       "</style>\n",
       "<table border=\"1\" class=\"dataframe\">\n",
       "  <thead>\n",
       "    <tr style=\"text-align: right;\">\n",
       "      <th></th>\n",
       "      <th>SalesID</th>\n",
       "      <th>SalePrice</th>\n",
       "      <th>MachineID</th>\n",
       "      <th>ModelID</th>\n",
       "      <th>datasource</th>\n",
       "      <th>auctioneerID</th>\n",
       "      <th>YearMade</th>\n",
       "      <th>MachineHoursCurrentMeter</th>\n",
       "      <th>UsageBand</th>\n",
       "      <th>fiModelDesc</th>\n",
       "      <th>...</th>\n",
       "      <th>Undercarriage_Pad_Width_is_missing</th>\n",
       "      <th>Stick_Length_is_missing</th>\n",
       "      <th>Thumb_is_missing</th>\n",
       "      <th>Pattern_Changer_is_missing</th>\n",
       "      <th>Grouser_Type_is_missing</th>\n",
       "      <th>Backhoe_Mounting_is_missing</th>\n",
       "      <th>Blade_Type_is_missing</th>\n",
       "      <th>Travel_Controls_is_missing</th>\n",
       "      <th>Differential_Type_is_missing</th>\n",
       "      <th>Steering_Controls_is_missing</th>\n",
       "    </tr>\n",
       "  </thead>\n",
       "  <tbody>\n",
       "    <tr>\n",
       "      <th>205615</th>\n",
       "      <td>1646770</td>\n",
       "      <td>9500</td>\n",
       "      <td>1126363</td>\n",
       "      <td>8434</td>\n",
       "      <td>132</td>\n",
       "      <td>18.0</td>\n",
       "      <td>1974</td>\n",
       "      <td>0.0</td>\n",
       "      <td>0</td>\n",
       "      <td>4537</td>\n",
       "      <td>...</td>\n",
       "      <td>1</td>\n",
       "      <td>1</td>\n",
       "      <td>1</td>\n",
       "      <td>1</td>\n",
       "      <td>1</td>\n",
       "      <td>0</td>\n",
       "      <td>0</td>\n",
       "      <td>0</td>\n",
       "      <td>1</td>\n",
       "      <td>1</td>\n",
       "    </tr>\n",
       "    <tr>\n",
       "      <th>92803</th>\n",
       "      <td>1404019</td>\n",
       "      <td>24000</td>\n",
       "      <td>1169900</td>\n",
       "      <td>7110</td>\n",
       "      <td>132</td>\n",
       "      <td>99.0</td>\n",
       "      <td>1986</td>\n",
       "      <td>0.0</td>\n",
       "      <td>0</td>\n",
       "      <td>735</td>\n",
       "      <td>...</td>\n",
       "      <td>1</td>\n",
       "      <td>1</td>\n",
       "      <td>1</td>\n",
       "      <td>1</td>\n",
       "      <td>1</td>\n",
       "      <td>1</td>\n",
       "      <td>1</td>\n",
       "      <td>1</td>\n",
       "      <td>1</td>\n",
       "      <td>1</td>\n",
       "    </tr>\n",
       "    <tr>\n",
       "      <th>98346</th>\n",
       "      <td>1415646</td>\n",
       "      <td>35000</td>\n",
       "      <td>1262088</td>\n",
       "      <td>3357</td>\n",
       "      <td>132</td>\n",
       "      <td>99.0</td>\n",
       "      <td>1975</td>\n",
       "      <td>0.0</td>\n",
       "      <td>0</td>\n",
       "      <td>82</td>\n",
       "      <td>...</td>\n",
       "      <td>1</td>\n",
       "      <td>1</td>\n",
       "      <td>1</td>\n",
       "      <td>1</td>\n",
       "      <td>1</td>\n",
       "      <td>1</td>\n",
       "      <td>1</td>\n",
       "      <td>1</td>\n",
       "      <td>1</td>\n",
       "      <td>1</td>\n",
       "    </tr>\n",
       "    <tr>\n",
       "      <th>169297</th>\n",
       "      <td>1596358</td>\n",
       "      <td>19000</td>\n",
       "      <td>1433229</td>\n",
       "      <td>8247</td>\n",
       "      <td>132</td>\n",
       "      <td>99.0</td>\n",
       "      <td>1978</td>\n",
       "      <td>0.0</td>\n",
       "      <td>0</td>\n",
       "      <td>1158</td>\n",
       "      <td>...</td>\n",
       "      <td>1</td>\n",
       "      <td>1</td>\n",
       "      <td>1</td>\n",
       "      <td>1</td>\n",
       "      <td>1</td>\n",
       "      <td>1</td>\n",
       "      <td>1</td>\n",
       "      <td>1</td>\n",
       "      <td>0</td>\n",
       "      <td>0</td>\n",
       "    </tr>\n",
       "    <tr>\n",
       "      <th>274835</th>\n",
       "      <td>1821514</td>\n",
       "      <td>14000</td>\n",
       "      <td>1194089</td>\n",
       "      <td>10150</td>\n",
       "      <td>132</td>\n",
       "      <td>99.0</td>\n",
       "      <td>1980</td>\n",
       "      <td>0.0</td>\n",
       "      <td>0</td>\n",
       "      <td>1800</td>\n",
       "      <td>...</td>\n",
       "      <td>1</td>\n",
       "      <td>1</td>\n",
       "      <td>1</td>\n",
       "      <td>1</td>\n",
       "      <td>1</td>\n",
       "      <td>1</td>\n",
       "      <td>1</td>\n",
       "      <td>1</td>\n",
       "      <td>0</td>\n",
       "      <td>0</td>\n",
       "    </tr>\n",
       "  </tbody>\n",
       "</table>\n",
       "<p>5 rows × 103 columns</p>\n",
       "</div>"
      ],
      "text/plain": [
       "        SalesID  SalePrice  MachineID  ModelID  datasource  auctioneerID  \\\n",
       "205615  1646770       9500    1126363     8434         132          18.0   \n",
       "92803   1404019      24000    1169900     7110         132          99.0   \n",
       "98346   1415646      35000    1262088     3357         132          99.0   \n",
       "169297  1596358      19000    1433229     8247         132          99.0   \n",
       "274835  1821514      14000    1194089    10150         132          99.0   \n",
       "\n",
       "        YearMade  MachineHoursCurrentMeter  UsageBand  fiModelDesc  ...  \\\n",
       "205615      1974                       0.0          0         4537  ...   \n",
       "92803       1986                       0.0          0          735  ...   \n",
       "98346       1975                       0.0          0           82  ...   \n",
       "169297      1978                       0.0          0         1158  ...   \n",
       "274835      1980                       0.0          0         1800  ...   \n",
       "\n",
       "        Undercarriage_Pad_Width_is_missing  Stick_Length_is_missing  \\\n",
       "205615                                   1                        1   \n",
       "92803                                    1                        1   \n",
       "98346                                    1                        1   \n",
       "169297                                   1                        1   \n",
       "274835                                   1                        1   \n",
       "\n",
       "        Thumb_is_missing  Pattern_Changer_is_missing  Grouser_Type_is_missing  \\\n",
       "205615                 1                           1                        1   \n",
       "92803                  1                           1                        1   \n",
       "98346                  1                           1                        1   \n",
       "169297                 1                           1                        1   \n",
       "274835                 1                           1                        1   \n",
       "\n",
       "        Backhoe_Mounting_is_missing  Blade_Type_is_missing  \\\n",
       "205615                            0                      0   \n",
       "92803                             1                      1   \n",
       "98346                             1                      1   \n",
       "169297                            1                      1   \n",
       "274835                            1                      1   \n",
       "\n",
       "        Travel_Controls_is_missing  Differential_Type_is_missing  \\\n",
       "205615                           0                             1   \n",
       "92803                            1                             1   \n",
       "98346                            1                             1   \n",
       "169297                           1                             0   \n",
       "274835                           1                             0   \n",
       "\n",
       "        Steering_Controls_is_missing  \n",
       "205615                             1  \n",
       "92803                              1  \n",
       "98346                              1  \n",
       "169297                             0  \n",
       "274835                             0  \n",
       "\n",
       "[5 rows x 103 columns]"
      ]
     },
     "execution_count": 59,
     "metadata": {},
     "output_type": "execute_result"
    }
   ],
   "source": [
    "df.head()"
   ]
  },
  {
   "cell_type": "code",
   "execution_count": 60,
   "metadata": {},
   "outputs": [
    {
     "name": "stdout",
     "output_type": "stream",
     "text": [
      "Overwriting utils/eda.py\n"
     ]
    }
   ],
   "source": [
    "%%writefile \"utils/eda.py\"\n",
    "\n",
    "def turn_object_values_to_categories(df: pd.DataFrame):\n",
    "    for label, content in df.items():\n",
    "        if pd.api.types.is_object_dtype(content):\n",
    "            df[label] = df[label].astype(\"category\")\n",
    "\n",
    "    return df\n",
    "\n",
    "\n",
    "def fill_missing_numeric_values(df: pd.DataFrame):\n",
    "    \"\"\" Fill missing numeric values with the median of the target column \"\"\"\n",
    "    for label, content in df.items():\n",
    "        if pd.api.types.is_numeric_dtype(content):\n",
    "            if pd.isnull(content).sum():\n",
    "\n",
    "                # Add a binary column which tells if the data was missing our not\n",
    "                df[label + \"_is_missing\"] = pd.isnull(content).astype(\n",
    "                    int\n",
    "                )  # this will add a 0 or 1 value to rows with missing values (e.g. 0 = not missing, 1 = missing)\n",
    "\n",
    "                # Fill missing numeric values with median since it's more robust than the mean\n",
    "                df[label] = content.fillna(content.median())\n",
    "\n",
    "    return df\n",
    "\n",
    "\n",
    "def convert_object_values_to_categories_and_fill_missing_values(df: pd.DataFrame) -> pd.DataFrame:\n",
    "    # 1. Create a dictionary to store column to category values (e.g. we turn our category types into numbers but we keep a record so we can go back)\n",
    "    column_to_category_dict = {}\n",
    "\n",
    "    # 2. Turn categorical variables into numbers\n",
    "    for label, content in df.items():\n",
    "\n",
    "        # 3. Check columns which *aren't* numeric\n",
    "        if not pd.api.types.is_numeric_dtype(content):\n",
    "\n",
    "            # 4. Add binary column to inidicate whether sample had missing value\n",
    "            df[label + \"_is_missing\"] = pd.isnull(content).astype(int)\n",
    "\n",
    "            # 5. Ensure content is categorical and get its category codes\n",
    "            content_categories = pd.Categorical(content)\n",
    "            content_category_codes = (\n",
    "                content_categories.codes + 1\n",
    "            )  # prevents -1 (the default for NaN values) from being used for missing values (we'll treat missing values as 0)\n",
    "\n",
    "            # 6. Add column key to dictionary with code: category mapping per column\n",
    "            column_to_category_dict[label] = dict(\n",
    "                zip(content_category_codes, content_categories)\n",
    "            )\n",
    "\n",
    "            # 7. Set the column to the numerical values (the category code value)\n",
    "            df[label] = content_category_codes\n",
    "\n",
    "    return df"
   ]
  },
  {
   "cell_type": "code",
   "execution_count": null,
   "metadata": {},
   "outputs": [],
   "source": []
  }
 ],
 "metadata": {
  "kernelspec": {
   "display_name": "Python 3",
   "language": "python",
   "name": "python3"
  },
  "language_info": {
   "codemirror_mode": {
    "name": "ipython",
    "version": 3
   },
   "file_extension": ".py",
   "mimetype": "text/x-python",
   "name": "python",
   "nbconvert_exporter": "python",
   "pygments_lexer": "ipython3",
   "version": "3.12.8"
  }
 },
 "nbformat": 4,
 "nbformat_minor": 2
}
