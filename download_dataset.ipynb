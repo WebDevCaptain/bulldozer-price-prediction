{
 "cells": [
  {
   "cell_type": "code",
   "execution_count": 7,
   "metadata": {},
   "outputs": [
    {
     "name": "stdout",
     "output_type": "stream",
     "text": [
      "Overwriting utils/download_dataset.py\n"
     ]
    }
   ],
   "source": [
    "%%writefile \"utils/download_dataset.py\"\n",
    "\n",
    "import os\n",
    "import zipfile\n",
    "from pathlib import Path\n",
    "\n",
    "import requests\n",
    "\n",
    "\n",
    "def download_and_extract_zip(\n",
    "    source: str = \"https://github.com/mrdbourke/zero-to-mastery-ml/raw/refs/heads/master/data/bluebook-for-bulldozers.zip\", \n",
    "    destination: str =\"bulldozer\", \n",
    "    remove_source: bool = True\n",
    ") -> Path:\n",
    "    \"\"\"Downloads a zipped dataset from source and extracts it to destination.\n",
    "\n",
    "    Args:\n",
    "        source (str): A link to a zipped file containing data.\n",
    "        destination (str): A target directory to unzip data to.\n",
    "        remove_source (bool): Whether to remove the source after downloading and extracting.\n",
    "\n",
    "    Returns:\n",
    "        pathlib.Path to downloaded data.\n",
    "    \"\"\"\n",
    "    # Setup path to data folder\n",
    "    data_path = Path(\"data/\")\n",
    "    dataset_path = data_path / destination\n",
    "\n",
    "    # If the dataset folder doesn't exist, download it and prepare it...\n",
    "    if dataset_path.is_dir():\n",
    "        print(f\"[INFO] {dataset_path} directory exists, skipping download.\")\n",
    "    else:\n",
    "        print(f\"[INFO] Did not find {dataset_path} directory, creating one...\")\n",
    "        dataset_path.mkdir(parents=True, exist_ok=True)\n",
    "\n",
    "        target_file = Path(source).name\n",
    "        target_file_path = dataset_path / target_file\n",
    "\n",
    "        with open(target_file_path, \"wb\") as f:\n",
    "            response = requests.get(source)\n",
    "            print(f\"[INFO] Downloading {target_file} from {source}...\")\n",
    "            f.write(response.content)\n",
    "\n",
    "        with zipfile.ZipFile(target_file_path, \"r\") as zip_ref:\n",
    "            print(f\"[INFO] Unzipping {target_file} data...\")\n",
    "            zip_ref.extractall(dataset_path)\n",
    "\n",
    "        # Remove .zip file\n",
    "        if remove_source:\n",
    "            os.remove(target_file_path)\n",
    "\n",
    "    return dataset_path"
   ]
  },
  {
   "cell_type": "code",
   "execution_count": 6,
   "metadata": {},
   "outputs": [],
   "source": [
    "# bulldozer_dataset_path = download_and_extract_zip(\n",
    "#     source=\"https://github.com/mrdbourke/zero-to-mastery-ml/raw/refs/heads/master/data/bluebook-for-bulldozers.zip\",\n",
    "#     destination=\"bulldozer\",\n",
    "# )\n",
    "\n",
    "# bulldozer_dataset_path"
   ]
  },
  {
   "cell_type": "code",
   "execution_count": null,
   "metadata": {},
   "outputs": [],
   "source": []
  }
 ],
 "metadata": {
  "kernelspec": {
   "display_name": "Python 3",
   "language": "python",
   "name": "python3"
  },
  "language_info": {
   "codemirror_mode": {
    "name": "ipython",
    "version": 3
   },
   "file_extension": ".py",
   "mimetype": "text/x-python",
   "name": "python",
   "nbconvert_exporter": "python",
   "pygments_lexer": "ipython3",
   "version": "3.12.8"
  }
 },
 "nbformat": 4,
 "nbformat_minor": 2
}
